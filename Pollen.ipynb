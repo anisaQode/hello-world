{
  "nbformat": 4,
  "nbformat_minor": 0,
  "metadata": {
    "colab": {
      "name": "Pollen.ipynb",
      "provenance": [],
      "authorship_tag": "ABX9TyNNoqjdCSuuPfFuiWiUzaNb",
      "include_colab_link": true
    },
    "kernelspec": {
      "name": "python3",
      "display_name": "Python 3"
    }
  },
  "cells": [
    {
      "cell_type": "markdown",
      "metadata": {
        "id": "view-in-github",
        "colab_type": "text"
      },
      "source": [
        "<a href=\"https://colab.research.google.com/github/anisaQode/hello-world/blob/master/Pollen.ipynb\" target=\"_parent\"><img src=\"https://colab.research.google.com/assets/colab-badge.svg\" alt=\"Open In Colab\"/></a>"
      ]
    },
    {
      "cell_type": "code",
      "metadata": {
        "id": "RAjpB1Qq-EyW"
      },
      "source": [
        "import pandas as pd\n",
        "import numpy as np\n",
        "import gspread\n",
        "from gspread_dataframe import get_as_dataframe, set_with_dataframe"
      ],
      "execution_count": 4,
      "outputs": []
    },
    {
      "cell_type": "code",
      "metadata": {
        "id": "hI9WUZhM--IO"
      },
      "source": [
        "from google.colab import auth\n",
        "auth.authenticate_user()\n",
        "from oauth2client.client import GoogleCredentials\n",
        "gc = gspread.authorize(GoogleCredentials.get_application_default())"
      ],
      "execution_count": 5,
      "outputs": []
    },
    {
      "cell_type": "code",
      "metadata": {
        "id": "X5whh4hn_lQU"
      },
      "source": [
        "sheet1 = gc.open_by_url('https://docs.google.com/spreadsheets/d/1CxGecd0p2MaE9nr8aBDElibYuDo-aBo6QSoy_OBtUqo/edit?ts=6024605e#gid=1028397889')"
      ],
      "execution_count": 6,
      "outputs": []
    },
    {
      "cell_type": "code",
      "metadata": {
        "id": "p1Bcw4eXAHPN"
      },
      "source": [
        "ws = sheet1.worksheet('Campaigns')"
      ],
      "execution_count": 7,
      "outputs": []
    },
    {
      "cell_type": "code",
      "metadata": {
        "id": "taJ5gx9tAVij"
      },
      "source": [
        "Campaigns_df = get_as_dataframe(ws)"
      ],
      "execution_count": 8,
      "outputs": []
    },
    {
      "cell_type": "code",
      "metadata": {
        "colab": {
          "base_uri": "https://localhost:8080/",
          "height": 745
        },
        "id": "228RwhZ9Abum",
        "outputId": "26105457-14a4-48cb-ffc5-2d6ac54b8965"
      },
      "source": [
        "Campaigns_df.head(100)"
      ],
      "execution_count": 11,
      "outputs": [
        {
          "output_type": "execute_result",
          "data": {
            "text/html": [
              "<div>\n",
              "<style scoped>\n",
              "    .dataframe tbody tr th:only-of-type {\n",
              "        vertical-align: middle;\n",
              "    }\n",
              "\n",
              "    .dataframe tbody tr th {\n",
              "        vertical-align: top;\n",
              "    }\n",
              "\n",
              "    .dataframe thead th {\n",
              "        text-align: right;\n",
              "    }\n",
              "</style>\n",
              "<table border=\"1\" class=\"dataframe\">\n",
              "  <thead>\n",
              "    <tr style=\"text-align: right;\">\n",
              "      <th></th>\n",
              "      <th>Event Identifier</th>\n",
              "      <th>Region</th>\n",
              "      <th>Native Stage</th>\n",
              "      <th>Last Stage Change Date</th>\n",
              "      <th>Location: Name</th>\n",
              "      <th>Number of Nights</th>\n",
              "      <th>Start Date</th>\n",
              "      <th>End Date</th>\n",
              "      <th>On Sale Date Time</th>\n",
              "      <th>Event Type</th>\n",
              "      <th># Traveler Estimate</th>\n",
              "      <th>Unnamed: 11</th>\n",
              "      <th>Unnamed: 12</th>\n",
              "      <th>Unnamed: 13</th>\n",
              "    </tr>\n",
              "  </thead>\n",
              "  <tbody>\n",
              "    <tr>\n",
              "      <th>0</th>\n",
              "      <td>=3984258</td>\n",
              "      <td>North America</td>\n",
              "      <td>Prep</td>\n",
              "      <td>1/7/2021</td>\n",
              "      <td>Punta Cana, Dominican Republic</td>\n",
              "      <td>4</td>\n",
              "      <td>5/20/2021</td>\n",
              "      <td>5/24/2021</td>\n",
              "      <td>12/15/2020</td>\n",
              "      <td>[\"Curated Travel\"]</td>\n",
              "      <td>2160</td>\n",
              "      <td>NaN</td>\n",
              "      <td>NaN</td>\n",
              "      <td>NaN</td>\n",
              "    </tr>\n",
              "    <tr>\n",
              "      <th>1</th>\n",
              "      <td>=A2+175</td>\n",
              "      <td>Europe</td>\n",
              "      <td>Prep</td>\n",
              "      <td>1/12/2021</td>\n",
              "      <td>Mykonos, Greece</td>\n",
              "      <td>4</td>\n",
              "      <td>9/24/2021</td>\n",
              "      <td>9/28/2021</td>\n",
              "      <td>NaN</td>\n",
              "      <td>[\"Curated Travel\"]</td>\n",
              "      <td>735</td>\n",
              "      <td>NaN</td>\n",
              "      <td>NaN</td>\n",
              "      <td>NaN</td>\n",
              "    </tr>\n",
              "    <tr>\n",
              "      <th>2</th>\n",
              "      <td>=A3+175</td>\n",
              "      <td>North America</td>\n",
              "      <td>Prep</td>\n",
              "      <td>10/13/2020</td>\n",
              "      <td>Las Vegas, Nevada</td>\n",
              "      <td>3</td>\n",
              "      <td>9/10/2021</td>\n",
              "      <td>9/13/2021</td>\n",
              "      <td>3/2/2021</td>\n",
              "      <td>[\"Spring Break\"]</td>\n",
              "      <td>3605</td>\n",
              "      <td>NaN</td>\n",
              "      <td>NaN</td>\n",
              "      <td>NaN</td>\n",
              "    </tr>\n",
              "    <tr>\n",
              "      <th>3</th>\n",
              "      <td>=A4+175</td>\n",
              "      <td>Europe</td>\n",
              "      <td>Prep</td>\n",
              "      <td>10/27/2020</td>\n",
              "      <td>Amsterdam, Netherlands</td>\n",
              "      <td>3</td>\n",
              "      <td>11/19/2021</td>\n",
              "      <td>11/22/2021</td>\n",
              "      <td>NaN</td>\n",
              "      <td>[\"Curated Travel\"]</td>\n",
              "      <td>1563</td>\n",
              "      <td>NaN</td>\n",
              "      <td>NaN</td>\n",
              "      <td>NaN</td>\n",
              "    </tr>\n",
              "    <tr>\n",
              "      <th>4</th>\n",
              "      <td>=A5+175</td>\n",
              "      <td>Europe</td>\n",
              "      <td>Prep</td>\n",
              "      <td>2/1/2021</td>\n",
              "      <td>Ibiza, Spain</td>\n",
              "      <td>4</td>\n",
              "      <td>9/8/2021</td>\n",
              "      <td>9/12/2021</td>\n",
              "      <td>NaN</td>\n",
              "      <td>[\"Curated Travel\"]</td>\n",
              "      <td>4160</td>\n",
              "      <td>NaN</td>\n",
              "      <td>NaN</td>\n",
              "      <td>NaN</td>\n",
              "    </tr>\n",
              "    <tr>\n",
              "      <th>...</th>\n",
              "      <td>...</td>\n",
              "      <td>...</td>\n",
              "      <td>...</td>\n",
              "      <td>...</td>\n",
              "      <td>...</td>\n",
              "      <td>...</td>\n",
              "      <td>...</td>\n",
              "      <td>...</td>\n",
              "      <td>...</td>\n",
              "      <td>...</td>\n",
              "      <td>...</td>\n",
              "      <td>...</td>\n",
              "      <td>...</td>\n",
              "      <td>...</td>\n",
              "    </tr>\n",
              "    <tr>\n",
              "      <th>58</th>\n",
              "      <td>=A59+175</td>\n",
              "      <td>Europe</td>\n",
              "      <td>Postponed</td>\n",
              "      <td>10/6/2020</td>\n",
              "      <td>Ibiza, Spain</td>\n",
              "      <td>4</td>\n",
              "      <td>10/7/2021</td>\n",
              "      <td>10/11/2021</td>\n",
              "      <td>10/22/2020</td>\n",
              "      <td>[\"Curated Travel\"]</td>\n",
              "      <td>2494</td>\n",
              "      <td>NaN</td>\n",
              "      <td>NaN</td>\n",
              "      <td>NaN</td>\n",
              "    </tr>\n",
              "    <tr>\n",
              "      <th>59</th>\n",
              "      <td>=A60+175</td>\n",
              "      <td>Europe</td>\n",
              "      <td>Cancelled</td>\n",
              "      <td>1/7/2021</td>\n",
              "      <td>Dubai, United Arab Emirates</td>\n",
              "      <td>4</td>\n",
              "      <td>4/1/2021</td>\n",
              "      <td>4/5/2021</td>\n",
              "      <td>12/15/2020</td>\n",
              "      <td>[\"Curated Travel\"]</td>\n",
              "      <td>909</td>\n",
              "      <td>NaN</td>\n",
              "      <td>NaN</td>\n",
              "      <td>NaN</td>\n",
              "    </tr>\n",
              "    <tr>\n",
              "      <th>60</th>\n",
              "      <td>=A61+175</td>\n",
              "      <td>Europe</td>\n",
              "      <td>Cancelled</td>\n",
              "      <td>6/30/2020</td>\n",
              "      <td>Amsterdam, Netherlands</td>\n",
              "      <td>3</td>\n",
              "      <td>5/7/2021</td>\n",
              "      <td>5/10/2021</td>\n",
              "      <td>4/23/2020</td>\n",
              "      <td>[\"Curated Travel\"]</td>\n",
              "      <td>1314</td>\n",
              "      <td>NaN</td>\n",
              "      <td>NaN</td>\n",
              "      <td>NaN</td>\n",
              "    </tr>\n",
              "    <tr>\n",
              "      <th>61</th>\n",
              "      <td>=A62+175</td>\n",
              "      <td>Europe</td>\n",
              "      <td>Cancelled</td>\n",
              "      <td>6/30/2020</td>\n",
              "      <td>Val Thorens, France</td>\n",
              "      <td>6</td>\n",
              "      <td>3/6/2021</td>\n",
              "      <td>3/12/2021</td>\n",
              "      <td>5/21/2020</td>\n",
              "      <td>[\"Curated Travel\"]</td>\n",
              "      <td>1221</td>\n",
              "      <td>NaN</td>\n",
              "      <td>NaN</td>\n",
              "      <td>NaN</td>\n",
              "    </tr>\n",
              "    <tr>\n",
              "      <th>62</th>\n",
              "      <td>=A63+175</td>\n",
              "      <td>Europe</td>\n",
              "      <td>Cancelled</td>\n",
              "      <td>7/27/2020</td>\n",
              "      <td>Val Thorens, France</td>\n",
              "      <td>6</td>\n",
              "      <td>3/13/2021</td>\n",
              "      <td>3/19/2021</td>\n",
              "      <td>7/31/2020</td>\n",
              "      <td>[\"Curated Travel\"]</td>\n",
              "      <td>3081</td>\n",
              "      <td>NaN</td>\n",
              "      <td>NaN</td>\n",
              "      <td>NaN</td>\n",
              "    </tr>\n",
              "  </tbody>\n",
              "</table>\n",
              "<p>63 rows × 14 columns</p>\n",
              "</div>"
            ],
            "text/plain": [
              "   Event Identifier         Region  ... Unnamed: 12 Unnamed: 13\n",
              "0          =3984258  North America  ...         NaN         NaN\n",
              "1           =A2+175         Europe  ...         NaN         NaN\n",
              "2           =A3+175  North America  ...         NaN         NaN\n",
              "3           =A4+175         Europe  ...         NaN         NaN\n",
              "4           =A5+175         Europe  ...         NaN         NaN\n",
              "..              ...            ...  ...         ...         ...\n",
              "58         =A59+175         Europe  ...         NaN         NaN\n",
              "59         =A60+175         Europe  ...         NaN         NaN\n",
              "60         =A61+175         Europe  ...         NaN         NaN\n",
              "61         =A62+175         Europe  ...         NaN         NaN\n",
              "62         =A63+175         Europe  ...         NaN         NaN\n",
              "\n",
              "[63 rows x 14 columns]"
            ]
          },
          "metadata": {
            "tags": []
          },
          "execution_count": 11
        }
      ]
    },
    {
      "cell_type": "code",
      "metadata": {
        "id": "gTK6F7m8BWYb"
      },
      "source": [
        "Campaigns_df.drop(['Unnamed: 11', 'Unnamed: 12', 'Unnamed: 13'], axis=1, inplace=True)"
      ],
      "execution_count": 12,
      "outputs": []
    },
    {
      "cell_type": "code",
      "metadata": {
        "colab": {
          "base_uri": "https://localhost:8080/"
        },
        "id": "lignE0BWBe0-",
        "outputId": "0fd9d913-c53f-4e8d-daf1-e3cae9bd4b95"
      },
      "source": [
        "Campaigns_df.groupby(['Location: Name', 'Event Type'])['# Traveler Estimate'].sum()"
      ],
      "execution_count": 28,
      "outputs": [
        {
          "output_type": "execute_result",
          "data": {
            "text/plain": [
              "Location: Name                  Event Type        \n",
              "Amsterdam, Netherlands          [\"Curated Travel\"]    26334\n",
              "                                [\"Spring Break\"]       8138\n",
              "Barcelona, Spain                [\"Curated Travel\"]     2912\n",
              "                                [\"Spring Break\"]       2118\n",
              "Berlin, Germany                 [\"Curated Travel\"]     6625\n",
              "Budapest, Hungary               [\"Curated Travel\"]     2488\n",
              "Cabo San Lucas, Mexico          [\"Curated Travel\"]     2164\n",
              "Cancun, Mexico                  [\"Curated Travel\"]    16738\n",
              "Dubai, United Arab Emirates     [\"Curated Travel\"]     2969\n",
              "Ibiza, Spain                    [\"Curated Travel\"]    21684\n",
              "Lake Havasu, Arizona            [\"Curated Travel\"]     1590\n",
              "Las Vegas, Nevada               [\"Curated Travel\"]    19328\n",
              "                                [\"Spring Break\"]      10064\n",
              "Les Deux Alpes, France          [\"Curated Travel\"]     1659\n",
              "Malta                           [\"Curated Travel\"]     3574\n",
              "Miami, Florida                  [\"Curated Travel\"]     4551\n",
              "Mykonos, Greece                 [\"Curated Travel\"]     1766\n",
              "Palm Desert, California         [\"Curated Travel\"]     2489\n",
              "Punta Cana, Dominican Republic  [\"Curated Travel\"]     2160\n",
              "San Juan, Puerto Rico           [\"Curated Travel\"]     5779\n",
              "Tenerife, Spain                 [\"Curated Travel\"]     1940\n",
              "Val Thorens, France             [\"Curated Travel\"]     4302\n",
              "Name: # Traveler Estimate, dtype: int64"
            ]
          },
          "metadata": {
            "tags": []
          },
          "execution_count": 28
        }
      ]
    },
    {
      "cell_type": "code",
      "metadata": {
        "id": "YeP4EvP3EyuD"
      },
      "source": [
        "Campaigns_travellers_by_event_type = Campaigns_df.groupby(['Event Type'])['# Traveler Estimate'].sum()"
      ],
      "execution_count": 40,
      "outputs": []
    },
    {
      "cell_type": "code",
      "metadata": {
        "colab": {
          "base_uri": "https://localhost:8080/"
        },
        "id": "GuVnZFTEJM4b",
        "outputId": "37cd99cf-053b-4632-d668-dd68b314b802"
      },
      "source": [
        "Campaigns_travellers_by_event_type"
      ],
      "execution_count": 42,
      "outputs": [
        {
          "output_type": "execute_result",
          "data": {
            "text/plain": [
              "Event Type\n",
              "[\"Curated Travel\"]    131052\n",
              "[\"Spring Break\"]       20320\n",
              "Name: # Traveler Estimate, dtype: int64"
            ]
          },
          "metadata": {
            "tags": []
          },
          "execution_count": 42
        }
      ]
    },
    {
      "cell_type": "code",
      "metadata": {
        "id": "ZzBTI16eE5FL"
      },
      "source": [
        "Campaigns_location = Campaigns_df.groupby(['Location: Name'])['# Traveler Estimate'].sum().sort_values(ascending = False)"
      ],
      "execution_count": 43,
      "outputs": []
    },
    {
      "cell_type": "code",
      "metadata": {
        "colab": {
          "base_uri": "https://localhost:8080/"
        },
        "id": "UUVn-ga-Iugl",
        "outputId": "f822f5e6-02d4-4b09-bc23-27928d6eb537"
      },
      "source": [
        "Campaigns_location"
      ],
      "execution_count": 44,
      "outputs": [
        {
          "output_type": "execute_result",
          "data": {
            "text/plain": [
              "Location: Name\n",
              "Amsterdam, Netherlands            34472\n",
              "Las Vegas, Nevada                 29392\n",
              "Ibiza, Spain                      21684\n",
              "Cancun, Mexico                    16738\n",
              "Berlin, Germany                    6625\n",
              "San Juan, Puerto Rico              5779\n",
              "Barcelona, Spain                   5030\n",
              "Miami, Florida                     4551\n",
              "Val Thorens, France                4302\n",
              "Malta                              3574\n",
              "Dubai, United Arab Emirates        2969\n",
              "Palm Desert, California            2489\n",
              "Budapest, Hungary                  2488\n",
              "Cabo San Lucas, Mexico             2164\n",
              "Punta Cana, Dominican Republic     2160\n",
              "Tenerife, Spain                    1940\n",
              "Mykonos, Greece                    1766\n",
              "Les Deux Alpes, France             1659\n",
              "Lake Havasu, Arizona               1590\n",
              "Name: # Traveler Estimate, dtype: int64"
            ]
          },
          "metadata": {
            "tags": []
          },
          "execution_count": 44
        }
      ]
    },
    {
      "cell_type": "code",
      "metadata": {
        "id": "dCeYTn46JjJz"
      },
      "source": [
        "Campaigns_region = Campaigns_df.groupby(['Region'])['# Traveler Estimate'].sum().sort_values(ascending = False)"
      ],
      "execution_count": 46,
      "outputs": []
    },
    {
      "cell_type": "code",
      "metadata": {
        "colab": {
          "base_uri": "https://localhost:8080/"
        },
        "id": "0z3pQ0wRJWwj",
        "outputId": "5dc1ae1e-e925-4b88-d9fb-68d77361fe4b"
      },
      "source": [
        "Campaigns_region"
      ],
      "execution_count": 47,
      "outputs": [
        {
          "output_type": "execute_result",
          "data": {
            "text/plain": [
              "Region\n",
              "Europe           85950\n",
              "North America    65422\n",
              "Name: # Traveler Estimate, dtype: int64"
            ]
          },
          "metadata": {
            "tags": []
          },
          "execution_count": 47
        }
      ]
    },
    {
      "cell_type": "code",
      "metadata": {
        "id": "EDPLYjmLJruK"
      },
      "source": [
        "#What month will we get the most travellers? How many travellers will this be?"
      ],
      "execution_count": 48,
      "outputs": []
    },
    {
      "cell_type": "code",
      "metadata": {
        "id": "F5bcb8hdvfdy"
      },
      "source": [
        ""
      ],
      "execution_count": null,
      "outputs": []
    }
  ]
}