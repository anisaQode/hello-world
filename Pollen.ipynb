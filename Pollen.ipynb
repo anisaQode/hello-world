{
  "nbformat": 4,
  "nbformat_minor": 0,
  "metadata": {
    "colab": {
      "name": "Pollen.ipynb",
      "provenance": [],
      "collapsed_sections": [],
      "authorship_tag": "ABX9TyNeFS8Y5XxYHJW5faL7Boml",
      "include_colab_link": true
    },
    "kernelspec": {
      "name": "python3",
      "display_name": "Python 3"
    }
  },
  "cells": [
    {
      "cell_type": "markdown",
      "metadata": {
        "id": "view-in-github",
        "colab_type": "text"
      },
      "source": [
        "<a href=\"https://colab.research.google.com/github/anisaQode/hello-world/blob/master/Pollen.ipynb\" target=\"_parent\"><img src=\"https://colab.research.google.com/assets/colab-badge.svg\" alt=\"Open In Colab\"/></a>"
      ]
    },
    {
      "cell_type": "code",
      "metadata": {
        "id": "RAjpB1Qq-EyW"
      },
      "source": [
        "import pandas as pd\n",
        "import numpy as np\n",
        "import gspread\n",
        "from gspread_dataframe import get_as_dataframe, set_with_dataframe"
      ],
      "execution_count": 180,
      "outputs": []
    },
    {
      "cell_type": "code",
      "metadata": {
        "id": "hI9WUZhM--IO"
      },
      "source": [
        "from google.colab import auth\n",
        "auth.authenticate_user()\n",
        "from oauth2client.client import GoogleCredentials\n",
        "gc = gspread.authorize(GoogleCredentials.get_application_default())"
      ],
      "execution_count": 181,
      "outputs": []
    },
    {
      "cell_type": "code",
      "metadata": {
        "id": "X5whh4hn_lQU"
      },
      "source": [
        "sheet1 = gc.open_by_url('https://docs.google.com/spreadsheets/d/1CxGecd0p2MaE9nr8aBDElibYuDo-aBo6QSoy_OBtUqo/edit?ts=6024605e#gid=1028397889')"
      ],
      "execution_count": 182,
      "outputs": []
    },
    {
      "cell_type": "code",
      "metadata": {
        "id": "p1Bcw4eXAHPN"
      },
      "source": [
        "ws = sheet1.worksheet('Campaigns')"
      ],
      "execution_count": 183,
      "outputs": []
    },
    {
      "cell_type": "code",
      "metadata": {
        "id": "taJ5gx9tAVij"
      },
      "source": [
        "Campaigns_df = get_as_dataframe(ws)"
      ],
      "execution_count": 184,
      "outputs": []
    },
    {
      "cell_type": "code",
      "metadata": {
        "colab": {
          "base_uri": "https://localhost:8080/",
          "height": 745
        },
        "id": "228RwhZ9Abum",
        "outputId": "d2c765a1-a130-4b91-aaeb-dc5748bdc2d5"
      },
      "source": [
        "Campaigns_df.head(100)"
      ],
      "execution_count": 185,
      "outputs": [
        {
          "output_type": "execute_result",
          "data": {
            "text/html": [
              "<div>\n",
              "<style scoped>\n",
              "    .dataframe tbody tr th:only-of-type {\n",
              "        vertical-align: middle;\n",
              "    }\n",
              "\n",
              "    .dataframe tbody tr th {\n",
              "        vertical-align: top;\n",
              "    }\n",
              "\n",
              "    .dataframe thead th {\n",
              "        text-align: right;\n",
              "    }\n",
              "</style>\n",
              "<table border=\"1\" class=\"dataframe\">\n",
              "  <thead>\n",
              "    <tr style=\"text-align: right;\">\n",
              "      <th></th>\n",
              "      <th>Event Identifier</th>\n",
              "      <th>Region</th>\n",
              "      <th>Native Stage</th>\n",
              "      <th>Last Stage Change Date</th>\n",
              "      <th>Location: Name</th>\n",
              "      <th>Number of Nights</th>\n",
              "      <th>Start Date</th>\n",
              "      <th>End Date</th>\n",
              "      <th>On Sale Date Time</th>\n",
              "      <th>Event Type</th>\n",
              "      <th># Traveler Estimate</th>\n",
              "      <th>Unnamed: 11</th>\n",
              "      <th>Unnamed: 12</th>\n",
              "      <th>Unnamed: 13</th>\n",
              "    </tr>\n",
              "  </thead>\n",
              "  <tbody>\n",
              "    <tr>\n",
              "      <th>0</th>\n",
              "      <td>=3984258</td>\n",
              "      <td>North America</td>\n",
              "      <td>Prep</td>\n",
              "      <td>1/7/2021</td>\n",
              "      <td>Punta Cana, Dominican Republic</td>\n",
              "      <td>4</td>\n",
              "      <td>5/20/2021</td>\n",
              "      <td>5/24/2021</td>\n",
              "      <td>12/15/2020</td>\n",
              "      <td>[\"Curated Travel\"]</td>\n",
              "      <td>2160</td>\n",
              "      <td>NaN</td>\n",
              "      <td>NaN</td>\n",
              "      <td>NaN</td>\n",
              "    </tr>\n",
              "    <tr>\n",
              "      <th>1</th>\n",
              "      <td>=A2+175</td>\n",
              "      <td>Europe</td>\n",
              "      <td>Prep</td>\n",
              "      <td>1/12/2021</td>\n",
              "      <td>Mykonos, Greece</td>\n",
              "      <td>4</td>\n",
              "      <td>9/24/2021</td>\n",
              "      <td>9/28/2021</td>\n",
              "      <td>NaN</td>\n",
              "      <td>[\"Curated Travel\"]</td>\n",
              "      <td>735</td>\n",
              "      <td>NaN</td>\n",
              "      <td>NaN</td>\n",
              "      <td>NaN</td>\n",
              "    </tr>\n",
              "    <tr>\n",
              "      <th>2</th>\n",
              "      <td>=A3+175</td>\n",
              "      <td>North America</td>\n",
              "      <td>Prep</td>\n",
              "      <td>10/13/2020</td>\n",
              "      <td>Las Vegas, Nevada</td>\n",
              "      <td>3</td>\n",
              "      <td>9/10/2021</td>\n",
              "      <td>9/13/2021</td>\n",
              "      <td>3/2/2021</td>\n",
              "      <td>[\"Spring Break\"]</td>\n",
              "      <td>3605</td>\n",
              "      <td>NaN</td>\n",
              "      <td>NaN</td>\n",
              "      <td>NaN</td>\n",
              "    </tr>\n",
              "    <tr>\n",
              "      <th>3</th>\n",
              "      <td>=A4+175</td>\n",
              "      <td>Europe</td>\n",
              "      <td>Prep</td>\n",
              "      <td>10/27/2020</td>\n",
              "      <td>Amsterdam, Netherlands</td>\n",
              "      <td>3</td>\n",
              "      <td>11/19/2021</td>\n",
              "      <td>11/22/2021</td>\n",
              "      <td>NaN</td>\n",
              "      <td>[\"Curated Travel\"]</td>\n",
              "      <td>1563</td>\n",
              "      <td>NaN</td>\n",
              "      <td>NaN</td>\n",
              "      <td>NaN</td>\n",
              "    </tr>\n",
              "    <tr>\n",
              "      <th>4</th>\n",
              "      <td>=A5+175</td>\n",
              "      <td>Europe</td>\n",
              "      <td>Prep</td>\n",
              "      <td>2/1/2021</td>\n",
              "      <td>Ibiza, Spain</td>\n",
              "      <td>4</td>\n",
              "      <td>9/8/2021</td>\n",
              "      <td>9/12/2021</td>\n",
              "      <td>NaN</td>\n",
              "      <td>[\"Curated Travel\"]</td>\n",
              "      <td>4160</td>\n",
              "      <td>NaN</td>\n",
              "      <td>NaN</td>\n",
              "      <td>NaN</td>\n",
              "    </tr>\n",
              "    <tr>\n",
              "      <th>...</th>\n",
              "      <td>...</td>\n",
              "      <td>...</td>\n",
              "      <td>...</td>\n",
              "      <td>...</td>\n",
              "      <td>...</td>\n",
              "      <td>...</td>\n",
              "      <td>...</td>\n",
              "      <td>...</td>\n",
              "      <td>...</td>\n",
              "      <td>...</td>\n",
              "      <td>...</td>\n",
              "      <td>...</td>\n",
              "      <td>...</td>\n",
              "      <td>...</td>\n",
              "    </tr>\n",
              "    <tr>\n",
              "      <th>58</th>\n",
              "      <td>=A59+175</td>\n",
              "      <td>Europe</td>\n",
              "      <td>Postponed</td>\n",
              "      <td>10/6/2020</td>\n",
              "      <td>Ibiza, Spain</td>\n",
              "      <td>4</td>\n",
              "      <td>10/7/2021</td>\n",
              "      <td>10/11/2021</td>\n",
              "      <td>10/22/2020</td>\n",
              "      <td>[\"Curated Travel\"]</td>\n",
              "      <td>2494</td>\n",
              "      <td>NaN</td>\n",
              "      <td>NaN</td>\n",
              "      <td>NaN</td>\n",
              "    </tr>\n",
              "    <tr>\n",
              "      <th>59</th>\n",
              "      <td>=A60+175</td>\n",
              "      <td>Europe</td>\n",
              "      <td>Cancelled</td>\n",
              "      <td>1/7/2021</td>\n",
              "      <td>Dubai, United Arab Emirates</td>\n",
              "      <td>4</td>\n",
              "      <td>4/1/2021</td>\n",
              "      <td>4/5/2021</td>\n",
              "      <td>12/15/2020</td>\n",
              "      <td>[\"Curated Travel\"]</td>\n",
              "      <td>909</td>\n",
              "      <td>NaN</td>\n",
              "      <td>NaN</td>\n",
              "      <td>NaN</td>\n",
              "    </tr>\n",
              "    <tr>\n",
              "      <th>60</th>\n",
              "      <td>=A61+175</td>\n",
              "      <td>Europe</td>\n",
              "      <td>Cancelled</td>\n",
              "      <td>6/30/2020</td>\n",
              "      <td>Amsterdam, Netherlands</td>\n",
              "      <td>3</td>\n",
              "      <td>5/7/2021</td>\n",
              "      <td>5/10/2021</td>\n",
              "      <td>4/23/2020</td>\n",
              "      <td>[\"Curated Travel\"]</td>\n",
              "      <td>1314</td>\n",
              "      <td>NaN</td>\n",
              "      <td>NaN</td>\n",
              "      <td>NaN</td>\n",
              "    </tr>\n",
              "    <tr>\n",
              "      <th>61</th>\n",
              "      <td>=A62+175</td>\n",
              "      <td>Europe</td>\n",
              "      <td>Cancelled</td>\n",
              "      <td>6/30/2020</td>\n",
              "      <td>Val Thorens, France</td>\n",
              "      <td>6</td>\n",
              "      <td>3/6/2021</td>\n",
              "      <td>3/12/2021</td>\n",
              "      <td>5/21/2020</td>\n",
              "      <td>[\"Curated Travel\"]</td>\n",
              "      <td>1221</td>\n",
              "      <td>NaN</td>\n",
              "      <td>NaN</td>\n",
              "      <td>NaN</td>\n",
              "    </tr>\n",
              "    <tr>\n",
              "      <th>62</th>\n",
              "      <td>=A63+175</td>\n",
              "      <td>Europe</td>\n",
              "      <td>Cancelled</td>\n",
              "      <td>7/27/2020</td>\n",
              "      <td>Val Thorens, France</td>\n",
              "      <td>6</td>\n",
              "      <td>3/13/2021</td>\n",
              "      <td>3/19/2021</td>\n",
              "      <td>7/31/2020</td>\n",
              "      <td>[\"Curated Travel\"]</td>\n",
              "      <td>3081</td>\n",
              "      <td>NaN</td>\n",
              "      <td>NaN</td>\n",
              "      <td>NaN</td>\n",
              "    </tr>\n",
              "  </tbody>\n",
              "</table>\n",
              "<p>63 rows × 14 columns</p>\n",
              "</div>"
            ],
            "text/plain": [
              "   Event Identifier         Region  ... Unnamed: 12 Unnamed: 13\n",
              "0          =3984258  North America  ...         NaN         NaN\n",
              "1           =A2+175         Europe  ...         NaN         NaN\n",
              "2           =A3+175  North America  ...         NaN         NaN\n",
              "3           =A4+175         Europe  ...         NaN         NaN\n",
              "4           =A5+175         Europe  ...         NaN         NaN\n",
              "..              ...            ...  ...         ...         ...\n",
              "58         =A59+175         Europe  ...         NaN         NaN\n",
              "59         =A60+175         Europe  ...         NaN         NaN\n",
              "60         =A61+175         Europe  ...         NaN         NaN\n",
              "61         =A62+175         Europe  ...         NaN         NaN\n",
              "62         =A63+175         Europe  ...         NaN         NaN\n",
              "\n",
              "[63 rows x 14 columns]"
            ]
          },
          "metadata": {
            "tags": []
          },
          "execution_count": 185
        }
      ]
    },
    {
      "cell_type": "code",
      "metadata": {
        "id": "gTK6F7m8BWYb"
      },
      "source": [
        "Campaigns_df.drop(['Unnamed: 11', 'Unnamed: 12', 'Unnamed: 13'], axis=1, inplace=True)"
      ],
      "execution_count": 186,
      "outputs": []
    },
    {
      "cell_type": "code",
      "metadata": {
        "colab": {
          "base_uri": "https://localhost:8080/"
        },
        "id": "lignE0BWBe0-",
        "outputId": "9d804280-4ceb-413c-9868-8ae5b140cc7c"
      },
      "source": [
        "Campaigns_df.groupby(['Location: Name', 'Event Type'])['# Traveler Estimate'].sum()"
      ],
      "execution_count": 187,
      "outputs": [
        {
          "output_type": "execute_result",
          "data": {
            "text/plain": [
              "Location: Name                  Event Type        \n",
              "Amsterdam, Netherlands          [\"Curated Travel\"]    26334\n",
              "                                [\"Spring Break\"]       8138\n",
              "Barcelona, Spain                [\"Curated Travel\"]     2912\n",
              "                                [\"Spring Break\"]       2118\n",
              "Berlin, Germany                 [\"Curated Travel\"]     6625\n",
              "Budapest, Hungary               [\"Curated Travel\"]     2488\n",
              "Cabo San Lucas, Mexico          [\"Curated Travel\"]     2164\n",
              "Cancun, Mexico                  [\"Curated Travel\"]    16738\n",
              "Dubai, United Arab Emirates     [\"Curated Travel\"]     2969\n",
              "Ibiza, Spain                    [\"Curated Travel\"]    21684\n",
              "Lake Havasu, Arizona            [\"Curated Travel\"]     1590\n",
              "Las Vegas, Nevada               [\"Curated Travel\"]    19328\n",
              "                                [\"Spring Break\"]      10064\n",
              "Les Deux Alpes, France          [\"Curated Travel\"]     1659\n",
              "Malta                           [\"Curated Travel\"]     3574\n",
              "Miami, Florida                  [\"Curated Travel\"]     4551\n",
              "Mykonos, Greece                 [\"Curated Travel\"]     1766\n",
              "Palm Desert, California         [\"Curated Travel\"]     2489\n",
              "Punta Cana, Dominican Republic  [\"Curated Travel\"]     2160\n",
              "San Juan, Puerto Rico           [\"Curated Travel\"]     5779\n",
              "Tenerife, Spain                 [\"Curated Travel\"]     1940\n",
              "Val Thorens, France             [\"Curated Travel\"]     4302\n",
              "Name: # Traveler Estimate, dtype: int64"
            ]
          },
          "metadata": {
            "tags": []
          },
          "execution_count": 187
        }
      ]
    },
    {
      "cell_type": "code",
      "metadata": {
        "id": "YeP4EvP3EyuD"
      },
      "source": [
        "Campaigns_travellers_by_event_type = Campaigns_df.groupby(['Event Type'])['# Traveler Estimate'].sum()"
      ],
      "execution_count": 188,
      "outputs": []
    },
    {
      "cell_type": "code",
      "metadata": {
        "colab": {
          "base_uri": "https://localhost:8080/"
        },
        "id": "GuVnZFTEJM4b",
        "outputId": "f6b6ce1f-e73f-4865-cebd-9b71e15413e2"
      },
      "source": [
        "Campaigns_travellers_by_event_type"
      ],
      "execution_count": 189,
      "outputs": [
        {
          "output_type": "execute_result",
          "data": {
            "text/plain": [
              "Event Type\n",
              "[\"Curated Travel\"]    131052\n",
              "[\"Spring Break\"]       20320\n",
              "Name: # Traveler Estimate, dtype: int64"
            ]
          },
          "metadata": {
            "tags": []
          },
          "execution_count": 189
        }
      ]
    },
    {
      "cell_type": "code",
      "metadata": {
        "id": "ZzBTI16eE5FL"
      },
      "source": [
        "Campaigns_location = Campaigns_df.groupby(['Location: Name'])['# Traveler Estimate'].sum().sort_values(ascending = False)"
      ],
      "execution_count": 190,
      "outputs": []
    },
    {
      "cell_type": "code",
      "metadata": {
        "colab": {
          "base_uri": "https://localhost:8080/"
        },
        "id": "UUVn-ga-Iugl",
        "outputId": "949ba4ee-f9e9-43fd-d28d-eaff81b34b7a"
      },
      "source": [
        "Campaigns_location"
      ],
      "execution_count": 191,
      "outputs": [
        {
          "output_type": "execute_result",
          "data": {
            "text/plain": [
              "Location: Name\n",
              "Amsterdam, Netherlands            34472\n",
              "Las Vegas, Nevada                 29392\n",
              "Ibiza, Spain                      21684\n",
              "Cancun, Mexico                    16738\n",
              "Berlin, Germany                    6625\n",
              "San Juan, Puerto Rico              5779\n",
              "Barcelona, Spain                   5030\n",
              "Miami, Florida                     4551\n",
              "Val Thorens, France                4302\n",
              "Malta                              3574\n",
              "Dubai, United Arab Emirates        2969\n",
              "Palm Desert, California            2489\n",
              "Budapest, Hungary                  2488\n",
              "Cabo San Lucas, Mexico             2164\n",
              "Punta Cana, Dominican Republic     2160\n",
              "Tenerife, Spain                    1940\n",
              "Mykonos, Greece                    1766\n",
              "Les Deux Alpes, France             1659\n",
              "Lake Havasu, Arizona               1590\n",
              "Name: # Traveler Estimate, dtype: int64"
            ]
          },
          "metadata": {
            "tags": []
          },
          "execution_count": 191
        }
      ]
    },
    {
      "cell_type": "code",
      "metadata": {
        "id": "dCeYTn46JjJz"
      },
      "source": [
        "Campaigns_region = Campaigns_df.groupby(['Region'])['# Traveler Estimate'].sum().sort_values(ascending = False)"
      ],
      "execution_count": 192,
      "outputs": []
    },
    {
      "cell_type": "code",
      "metadata": {
        "colab": {
          "base_uri": "https://localhost:8080/"
        },
        "id": "0z3pQ0wRJWwj",
        "outputId": "9cfb0055-e995-4059-cd1a-f2c71a3452ec"
      },
      "source": [
        "Campaigns_region"
      ],
      "execution_count": 193,
      "outputs": [
        {
          "output_type": "execute_result",
          "data": {
            "text/plain": [
              "Region\n",
              "Europe           85950\n",
              "North America    65422\n",
              "Name: # Traveler Estimate, dtype: int64"
            ]
          },
          "metadata": {
            "tags": []
          },
          "execution_count": 193
        }
      ]
    },
    {
      "cell_type": "code",
      "metadata": {
        "id": "DZtFaGRUv9y7"
      },
      "source": [
        "# Clean up data"
      ],
      "execution_count": 194,
      "outputs": []
    },
    {
      "cell_type": "code",
      "metadata": {
        "colab": {
          "base_uri": "https://localhost:8080/",
          "height": 606
        },
        "id": "Mzivyb7Q4Nc0",
        "outputId": "ba23f5ec-2af8-45e8-e3af-b12d6f9f02d5"
      },
      "source": [
        "Campaigns_df.head(64)"
      ],
      "execution_count": 195,
      "outputs": [
        {
          "output_type": "execute_result",
          "data": {
            "text/html": [
              "<div>\n",
              "<style scoped>\n",
              "    .dataframe tbody tr th:only-of-type {\n",
              "        vertical-align: middle;\n",
              "    }\n",
              "\n",
              "    .dataframe tbody tr th {\n",
              "        vertical-align: top;\n",
              "    }\n",
              "\n",
              "    .dataframe thead th {\n",
              "        text-align: right;\n",
              "    }\n",
              "</style>\n",
              "<table border=\"1\" class=\"dataframe\">\n",
              "  <thead>\n",
              "    <tr style=\"text-align: right;\">\n",
              "      <th></th>\n",
              "      <th>Event Identifier</th>\n",
              "      <th>Region</th>\n",
              "      <th>Native Stage</th>\n",
              "      <th>Last Stage Change Date</th>\n",
              "      <th>Location: Name</th>\n",
              "      <th>Number of Nights</th>\n",
              "      <th>Start Date</th>\n",
              "      <th>End Date</th>\n",
              "      <th>On Sale Date Time</th>\n",
              "      <th>Event Type</th>\n",
              "      <th># Traveler Estimate</th>\n",
              "    </tr>\n",
              "  </thead>\n",
              "  <tbody>\n",
              "    <tr>\n",
              "      <th>0</th>\n",
              "      <td>=3984258</td>\n",
              "      <td>North America</td>\n",
              "      <td>Prep</td>\n",
              "      <td>1/7/2021</td>\n",
              "      <td>Punta Cana, Dominican Republic</td>\n",
              "      <td>4</td>\n",
              "      <td>5/20/2021</td>\n",
              "      <td>5/24/2021</td>\n",
              "      <td>12/15/2020</td>\n",
              "      <td>[\"Curated Travel\"]</td>\n",
              "      <td>2160</td>\n",
              "    </tr>\n",
              "    <tr>\n",
              "      <th>1</th>\n",
              "      <td>=A2+175</td>\n",
              "      <td>Europe</td>\n",
              "      <td>Prep</td>\n",
              "      <td>1/12/2021</td>\n",
              "      <td>Mykonos, Greece</td>\n",
              "      <td>4</td>\n",
              "      <td>9/24/2021</td>\n",
              "      <td>9/28/2021</td>\n",
              "      <td>NaN</td>\n",
              "      <td>[\"Curated Travel\"]</td>\n",
              "      <td>735</td>\n",
              "    </tr>\n",
              "    <tr>\n",
              "      <th>2</th>\n",
              "      <td>=A3+175</td>\n",
              "      <td>North America</td>\n",
              "      <td>Prep</td>\n",
              "      <td>10/13/2020</td>\n",
              "      <td>Las Vegas, Nevada</td>\n",
              "      <td>3</td>\n",
              "      <td>9/10/2021</td>\n",
              "      <td>9/13/2021</td>\n",
              "      <td>3/2/2021</td>\n",
              "      <td>[\"Spring Break\"]</td>\n",
              "      <td>3605</td>\n",
              "    </tr>\n",
              "    <tr>\n",
              "      <th>3</th>\n",
              "      <td>=A4+175</td>\n",
              "      <td>Europe</td>\n",
              "      <td>Prep</td>\n",
              "      <td>10/27/2020</td>\n",
              "      <td>Amsterdam, Netherlands</td>\n",
              "      <td>3</td>\n",
              "      <td>11/19/2021</td>\n",
              "      <td>11/22/2021</td>\n",
              "      <td>NaN</td>\n",
              "      <td>[\"Curated Travel\"]</td>\n",
              "      <td>1563</td>\n",
              "    </tr>\n",
              "    <tr>\n",
              "      <th>4</th>\n",
              "      <td>=A5+175</td>\n",
              "      <td>Europe</td>\n",
              "      <td>Prep</td>\n",
              "      <td>2/1/2021</td>\n",
              "      <td>Ibiza, Spain</td>\n",
              "      <td>4</td>\n",
              "      <td>9/8/2021</td>\n",
              "      <td>9/12/2021</td>\n",
              "      <td>NaN</td>\n",
              "      <td>[\"Curated Travel\"]</td>\n",
              "      <td>4160</td>\n",
              "    </tr>\n",
              "    <tr>\n",
              "      <th>...</th>\n",
              "      <td>...</td>\n",
              "      <td>...</td>\n",
              "      <td>...</td>\n",
              "      <td>...</td>\n",
              "      <td>...</td>\n",
              "      <td>...</td>\n",
              "      <td>...</td>\n",
              "      <td>...</td>\n",
              "      <td>...</td>\n",
              "      <td>...</td>\n",
              "      <td>...</td>\n",
              "    </tr>\n",
              "    <tr>\n",
              "      <th>58</th>\n",
              "      <td>=A59+175</td>\n",
              "      <td>Europe</td>\n",
              "      <td>Postponed</td>\n",
              "      <td>10/6/2020</td>\n",
              "      <td>Ibiza, Spain</td>\n",
              "      <td>4</td>\n",
              "      <td>10/7/2021</td>\n",
              "      <td>10/11/2021</td>\n",
              "      <td>10/22/2020</td>\n",
              "      <td>[\"Curated Travel\"]</td>\n",
              "      <td>2494</td>\n",
              "    </tr>\n",
              "    <tr>\n",
              "      <th>59</th>\n",
              "      <td>=A60+175</td>\n",
              "      <td>Europe</td>\n",
              "      <td>Cancelled</td>\n",
              "      <td>1/7/2021</td>\n",
              "      <td>Dubai, United Arab Emirates</td>\n",
              "      <td>4</td>\n",
              "      <td>4/1/2021</td>\n",
              "      <td>4/5/2021</td>\n",
              "      <td>12/15/2020</td>\n",
              "      <td>[\"Curated Travel\"]</td>\n",
              "      <td>909</td>\n",
              "    </tr>\n",
              "    <tr>\n",
              "      <th>60</th>\n",
              "      <td>=A61+175</td>\n",
              "      <td>Europe</td>\n",
              "      <td>Cancelled</td>\n",
              "      <td>6/30/2020</td>\n",
              "      <td>Amsterdam, Netherlands</td>\n",
              "      <td>3</td>\n",
              "      <td>5/7/2021</td>\n",
              "      <td>5/10/2021</td>\n",
              "      <td>4/23/2020</td>\n",
              "      <td>[\"Curated Travel\"]</td>\n",
              "      <td>1314</td>\n",
              "    </tr>\n",
              "    <tr>\n",
              "      <th>61</th>\n",
              "      <td>=A62+175</td>\n",
              "      <td>Europe</td>\n",
              "      <td>Cancelled</td>\n",
              "      <td>6/30/2020</td>\n",
              "      <td>Val Thorens, France</td>\n",
              "      <td>6</td>\n",
              "      <td>3/6/2021</td>\n",
              "      <td>3/12/2021</td>\n",
              "      <td>5/21/2020</td>\n",
              "      <td>[\"Curated Travel\"]</td>\n",
              "      <td>1221</td>\n",
              "    </tr>\n",
              "    <tr>\n",
              "      <th>62</th>\n",
              "      <td>=A63+175</td>\n",
              "      <td>Europe</td>\n",
              "      <td>Cancelled</td>\n",
              "      <td>7/27/2020</td>\n",
              "      <td>Val Thorens, France</td>\n",
              "      <td>6</td>\n",
              "      <td>3/13/2021</td>\n",
              "      <td>3/19/2021</td>\n",
              "      <td>7/31/2020</td>\n",
              "      <td>[\"Curated Travel\"]</td>\n",
              "      <td>3081</td>\n",
              "    </tr>\n",
              "  </tbody>\n",
              "</table>\n",
              "<p>63 rows × 11 columns</p>\n",
              "</div>"
            ],
            "text/plain": [
              "   Event Identifier         Region  ...          Event Type # Traveler Estimate\n",
              "0          =3984258  North America  ...  [\"Curated Travel\"]                2160\n",
              "1           =A2+175         Europe  ...  [\"Curated Travel\"]                 735\n",
              "2           =A3+175  North America  ...    [\"Spring Break\"]                3605\n",
              "3           =A4+175         Europe  ...  [\"Curated Travel\"]                1563\n",
              "4           =A5+175         Europe  ...  [\"Curated Travel\"]                4160\n",
              "..              ...            ...  ...                 ...                 ...\n",
              "58         =A59+175         Europe  ...  [\"Curated Travel\"]                2494\n",
              "59         =A60+175         Europe  ...  [\"Curated Travel\"]                 909\n",
              "60         =A61+175         Europe  ...  [\"Curated Travel\"]                1314\n",
              "61         =A62+175         Europe  ...  [\"Curated Travel\"]                1221\n",
              "62         =A63+175         Europe  ...  [\"Curated Travel\"]                3081\n",
              "\n",
              "[63 rows x 11 columns]"
            ]
          },
          "metadata": {
            "tags": []
          },
          "execution_count": 195
        }
      ]
    },
    {
      "cell_type": "code",
      "metadata": {
        "id": "idoYqtRm4RRl"
      },
      "source": [
        "#Do we have rows with all NaN?"
      ],
      "execution_count": 196,
      "outputs": []
    },
    {
      "cell_type": "code",
      "metadata": {
        "colab": {
          "base_uri": "https://localhost:8080/",
          "height": 306
        },
        "id": "4LIh4QlPVGaR",
        "outputId": "f9a2088b-fcc4-421e-8c5b-81ba4a08afeb"
      },
      "source": [
        "nan_df = Campaigns_df[Campaigns_df.isna().any(axis=1)]\n",
        "nan_df.head()"
      ],
      "execution_count": 197,
      "outputs": [
        {
          "output_type": "execute_result",
          "data": {
            "text/html": [
              "<div>\n",
              "<style scoped>\n",
              "    .dataframe tbody tr th:only-of-type {\n",
              "        vertical-align: middle;\n",
              "    }\n",
              "\n",
              "    .dataframe tbody tr th {\n",
              "        vertical-align: top;\n",
              "    }\n",
              "\n",
              "    .dataframe thead th {\n",
              "        text-align: right;\n",
              "    }\n",
              "</style>\n",
              "<table border=\"1\" class=\"dataframe\">\n",
              "  <thead>\n",
              "    <tr style=\"text-align: right;\">\n",
              "      <th></th>\n",
              "      <th>Event Identifier</th>\n",
              "      <th>Region</th>\n",
              "      <th>Native Stage</th>\n",
              "      <th>Last Stage Change Date</th>\n",
              "      <th>Location: Name</th>\n",
              "      <th>Number of Nights</th>\n",
              "      <th>Start Date</th>\n",
              "      <th>End Date</th>\n",
              "      <th>On Sale Date Time</th>\n",
              "      <th>Event Type</th>\n",
              "      <th># Traveler Estimate</th>\n",
              "    </tr>\n",
              "  </thead>\n",
              "  <tbody>\n",
              "    <tr>\n",
              "      <th>1</th>\n",
              "      <td>=A2+175</td>\n",
              "      <td>Europe</td>\n",
              "      <td>Prep</td>\n",
              "      <td>1/12/2021</td>\n",
              "      <td>Mykonos, Greece</td>\n",
              "      <td>4</td>\n",
              "      <td>9/24/2021</td>\n",
              "      <td>9/28/2021</td>\n",
              "      <td>NaN</td>\n",
              "      <td>[\"Curated Travel\"]</td>\n",
              "      <td>735</td>\n",
              "    </tr>\n",
              "    <tr>\n",
              "      <th>3</th>\n",
              "      <td>=A4+175</td>\n",
              "      <td>Europe</td>\n",
              "      <td>Prep</td>\n",
              "      <td>10/27/2020</td>\n",
              "      <td>Amsterdam, Netherlands</td>\n",
              "      <td>3</td>\n",
              "      <td>11/19/2021</td>\n",
              "      <td>11/22/2021</td>\n",
              "      <td>NaN</td>\n",
              "      <td>[\"Curated Travel\"]</td>\n",
              "      <td>1563</td>\n",
              "    </tr>\n",
              "    <tr>\n",
              "      <th>4</th>\n",
              "      <td>=A5+175</td>\n",
              "      <td>Europe</td>\n",
              "      <td>Prep</td>\n",
              "      <td>2/1/2021</td>\n",
              "      <td>Ibiza, Spain</td>\n",
              "      <td>4</td>\n",
              "      <td>9/8/2021</td>\n",
              "      <td>9/12/2021</td>\n",
              "      <td>NaN</td>\n",
              "      <td>[\"Curated Travel\"]</td>\n",
              "      <td>4160</td>\n",
              "    </tr>\n",
              "    <tr>\n",
              "      <th>5</th>\n",
              "      <td>=A6+175</td>\n",
              "      <td>Europe</td>\n",
              "      <td>Prep</td>\n",
              "      <td>NaN</td>\n",
              "      <td>Barcelona, Spain</td>\n",
              "      <td>3</td>\n",
              "      <td>9/3/2021</td>\n",
              "      <td>9/6/2021</td>\n",
              "      <td>NaN</td>\n",
              "      <td>[\"Spring Break\"]</td>\n",
              "      <td>2118</td>\n",
              "    </tr>\n",
              "    <tr>\n",
              "      <th>6</th>\n",
              "      <td>=A7+175</td>\n",
              "      <td>North America</td>\n",
              "      <td>Prep</td>\n",
              "      <td>NaN</td>\n",
              "      <td>Las Vegas, Nevada</td>\n",
              "      <td>4</td>\n",
              "      <td>9/23/2021</td>\n",
              "      <td>9/27/2021</td>\n",
              "      <td>NaN</td>\n",
              "      <td>[\"Curated Travel\"]</td>\n",
              "      <td>3175</td>\n",
              "    </tr>\n",
              "  </tbody>\n",
              "</table>\n",
              "</div>"
            ],
            "text/plain": [
              "  Event Identifier         Region  ...          Event Type # Traveler Estimate\n",
              "1          =A2+175         Europe  ...  [\"Curated Travel\"]                 735\n",
              "3          =A4+175         Europe  ...  [\"Curated Travel\"]                1563\n",
              "4          =A5+175         Europe  ...  [\"Curated Travel\"]                4160\n",
              "5          =A6+175         Europe  ...    [\"Spring Break\"]                2118\n",
              "6          =A7+175  North America  ...  [\"Curated Travel\"]                3175\n",
              "\n",
              "[5 rows x 11 columns]"
            ]
          },
          "metadata": {
            "tags": []
          },
          "execution_count": 197
        }
      ]
    },
    {
      "cell_type": "code",
      "metadata": {
        "id": "q2_4VpIMwKKV"
      },
      "source": [
        "# Augment data with additional columns , Add month columns"
      ],
      "execution_count": 198,
      "outputs": []
    },
    {
      "cell_type": "code",
      "metadata": {
        "id": "YCWFchGOWMtC"
      },
      "source": [
        "#Find / and delete it from month column\n",
        "#used to_datetime instead \n"
      ],
      "execution_count": 199,
      "outputs": []
    },
    {
      "cell_type": "code",
      "metadata": {
        "colab": {
          "base_uri": "https://localhost:8080/"
        },
        "id": "Us7DdXLFwBJq",
        "outputId": "1624cfa5-bc08-4bb2-c4e7-e6b35af6a49e"
      },
      "source": [
        "#Campaigns_df['Month'] = Campaigns_df['Start Date'].str[0:2]\n",
        "#Campaigns_df['Month'] = Campaigns_df['Month'].astype('int32')\n",
        "#Campaigns_df.head()\n",
        "Campaigns_df.rename(columns={'Start Date':'Start_Date', 'End Date':'End_Date', '# Traveler Estimate':'Estimated_Travellers'}, inplace=True)\n",
        "Campaigns_df['Start_Date'] = pd.to_datetime(Campaigns_df.Start_Date)\n",
        "Campaigns_df['Start_Month'] = Campaigns_df.Start_Date.dt.month\n",
        "Campaigns_df['Start_Week'] = Campaigns_df.Start_Date.dt.week"
      ],
      "execution_count": 210,
      "outputs": [
        {
          "output_type": "stream",
          "text": [
            "/usr/local/lib/python3.6/dist-packages/ipykernel_launcher.py:7: FutureWarning: Series.dt.weekofyear and Series.dt.week have been deprecated.  Please use Series.dt.isocalendar().week instead.\n",
            "  import sys\n"
          ],
          "name": "stderr"
        }
      ]
    },
    {
      "cell_type": "code",
      "metadata": {
        "id": "F5bcb8hdvfdy"
      },
      "source": [
        "#Stage to status mapping "
      ],
      "execution_count": 202,
      "outputs": []
    },
    {
      "cell_type": "code",
      "metadata": {
        "id": "sKvlO3QcZvX5"
      },
      "source": [
        "Campaigns_df['Native Stage'] = Campaigns_df['Native Stage'].replace({'Prep': 'Pre-Sale', 'Campaign Setup Required': 'Pre-Sale', 'Hype': 'Pre-Sale', 'Quality Assurance Review': 'Pre-Sale', 'Pre-Event Ops Planning':'Active', 'On-Sale' : 'Active', 'Postponed':'Postponed', 'Cancelled':'Cancelled'})"
      ],
      "execution_count": 203,
      "outputs": []
    },
    {
      "cell_type": "code",
      "metadata": {
        "colab": {
          "base_uri": "https://localhost:8080/",
          "height": 674
        },
        "id": "_pheDkjEftRV",
        "outputId": "57dbef5b-d95b-427b-d645-e3a8328c3705"
      },
      "source": [
        "Campaigns_df"
      ],
      "execution_count": 204,
      "outputs": [
        {
          "output_type": "execute_result",
          "data": {
            "text/html": [
              "<div>\n",
              "<style scoped>\n",
              "    .dataframe tbody tr th:only-of-type {\n",
              "        vertical-align: middle;\n",
              "    }\n",
              "\n",
              "    .dataframe tbody tr th {\n",
              "        vertical-align: top;\n",
              "    }\n",
              "\n",
              "    .dataframe thead th {\n",
              "        text-align: right;\n",
              "    }\n",
              "</style>\n",
              "<table border=\"1\" class=\"dataframe\">\n",
              "  <thead>\n",
              "    <tr style=\"text-align: right;\">\n",
              "      <th></th>\n",
              "      <th>Event Identifier</th>\n",
              "      <th>Region</th>\n",
              "      <th>Native Stage</th>\n",
              "      <th>Last Stage Change Date</th>\n",
              "      <th>Location: Name</th>\n",
              "      <th>Number of Nights</th>\n",
              "      <th>Start_Date</th>\n",
              "      <th>End_Date</th>\n",
              "      <th>On Sale Date Time</th>\n",
              "      <th>Event Type</th>\n",
              "      <th># Traveler Estimate</th>\n",
              "      <th>Start_Month</th>\n",
              "      <th>Start_Week</th>\n",
              "    </tr>\n",
              "  </thead>\n",
              "  <tbody>\n",
              "    <tr>\n",
              "      <th>0</th>\n",
              "      <td>=3984258</td>\n",
              "      <td>North America</td>\n",
              "      <td>Pre-Sale</td>\n",
              "      <td>1/7/2021</td>\n",
              "      <td>Punta Cana, Dominican Republic</td>\n",
              "      <td>4</td>\n",
              "      <td>2021-05-20</td>\n",
              "      <td>5/24/2021</td>\n",
              "      <td>12/15/2020</td>\n",
              "      <td>[\"Curated Travel\"]</td>\n",
              "      <td>2160</td>\n",
              "      <td>5</td>\n",
              "      <td>20</td>\n",
              "    </tr>\n",
              "    <tr>\n",
              "      <th>1</th>\n",
              "      <td>=A2+175</td>\n",
              "      <td>Europe</td>\n",
              "      <td>Pre-Sale</td>\n",
              "      <td>1/12/2021</td>\n",
              "      <td>Mykonos, Greece</td>\n",
              "      <td>4</td>\n",
              "      <td>2021-09-24</td>\n",
              "      <td>9/28/2021</td>\n",
              "      <td>NaN</td>\n",
              "      <td>[\"Curated Travel\"]</td>\n",
              "      <td>735</td>\n",
              "      <td>9</td>\n",
              "      <td>38</td>\n",
              "    </tr>\n",
              "    <tr>\n",
              "      <th>2</th>\n",
              "      <td>=A3+175</td>\n",
              "      <td>North America</td>\n",
              "      <td>Pre-Sale</td>\n",
              "      <td>10/13/2020</td>\n",
              "      <td>Las Vegas, Nevada</td>\n",
              "      <td>3</td>\n",
              "      <td>2021-09-10</td>\n",
              "      <td>9/13/2021</td>\n",
              "      <td>3/2/2021</td>\n",
              "      <td>[\"Spring Break\"]</td>\n",
              "      <td>3605</td>\n",
              "      <td>9</td>\n",
              "      <td>36</td>\n",
              "    </tr>\n",
              "    <tr>\n",
              "      <th>3</th>\n",
              "      <td>=A4+175</td>\n",
              "      <td>Europe</td>\n",
              "      <td>Pre-Sale</td>\n",
              "      <td>10/27/2020</td>\n",
              "      <td>Amsterdam, Netherlands</td>\n",
              "      <td>3</td>\n",
              "      <td>2021-11-19</td>\n",
              "      <td>11/22/2021</td>\n",
              "      <td>NaN</td>\n",
              "      <td>[\"Curated Travel\"]</td>\n",
              "      <td>1563</td>\n",
              "      <td>11</td>\n",
              "      <td>46</td>\n",
              "    </tr>\n",
              "    <tr>\n",
              "      <th>4</th>\n",
              "      <td>=A5+175</td>\n",
              "      <td>Europe</td>\n",
              "      <td>Pre-Sale</td>\n",
              "      <td>2/1/2021</td>\n",
              "      <td>Ibiza, Spain</td>\n",
              "      <td>4</td>\n",
              "      <td>2021-09-08</td>\n",
              "      <td>9/12/2021</td>\n",
              "      <td>NaN</td>\n",
              "      <td>[\"Curated Travel\"]</td>\n",
              "      <td>4160</td>\n",
              "      <td>9</td>\n",
              "      <td>36</td>\n",
              "    </tr>\n",
              "    <tr>\n",
              "      <th>...</th>\n",
              "      <td>...</td>\n",
              "      <td>...</td>\n",
              "      <td>...</td>\n",
              "      <td>...</td>\n",
              "      <td>...</td>\n",
              "      <td>...</td>\n",
              "      <td>...</td>\n",
              "      <td>...</td>\n",
              "      <td>...</td>\n",
              "      <td>...</td>\n",
              "      <td>...</td>\n",
              "      <td>...</td>\n",
              "      <td>...</td>\n",
              "    </tr>\n",
              "    <tr>\n",
              "      <th>58</th>\n",
              "      <td>=A59+175</td>\n",
              "      <td>Europe</td>\n",
              "      <td>Postponed</td>\n",
              "      <td>10/6/2020</td>\n",
              "      <td>Ibiza, Spain</td>\n",
              "      <td>4</td>\n",
              "      <td>2021-10-07</td>\n",
              "      <td>10/11/2021</td>\n",
              "      <td>10/22/2020</td>\n",
              "      <td>[\"Curated Travel\"]</td>\n",
              "      <td>2494</td>\n",
              "      <td>10</td>\n",
              "      <td>40</td>\n",
              "    </tr>\n",
              "    <tr>\n",
              "      <th>59</th>\n",
              "      <td>=A60+175</td>\n",
              "      <td>Europe</td>\n",
              "      <td>Cancelled</td>\n",
              "      <td>1/7/2021</td>\n",
              "      <td>Dubai, United Arab Emirates</td>\n",
              "      <td>4</td>\n",
              "      <td>2021-04-01</td>\n",
              "      <td>4/5/2021</td>\n",
              "      <td>12/15/2020</td>\n",
              "      <td>[\"Curated Travel\"]</td>\n",
              "      <td>909</td>\n",
              "      <td>4</td>\n",
              "      <td>13</td>\n",
              "    </tr>\n",
              "    <tr>\n",
              "      <th>60</th>\n",
              "      <td>=A61+175</td>\n",
              "      <td>Europe</td>\n",
              "      <td>Cancelled</td>\n",
              "      <td>6/30/2020</td>\n",
              "      <td>Amsterdam, Netherlands</td>\n",
              "      <td>3</td>\n",
              "      <td>2021-05-07</td>\n",
              "      <td>5/10/2021</td>\n",
              "      <td>4/23/2020</td>\n",
              "      <td>[\"Curated Travel\"]</td>\n",
              "      <td>1314</td>\n",
              "      <td>5</td>\n",
              "      <td>18</td>\n",
              "    </tr>\n",
              "    <tr>\n",
              "      <th>61</th>\n",
              "      <td>=A62+175</td>\n",
              "      <td>Europe</td>\n",
              "      <td>Cancelled</td>\n",
              "      <td>6/30/2020</td>\n",
              "      <td>Val Thorens, France</td>\n",
              "      <td>6</td>\n",
              "      <td>2021-03-06</td>\n",
              "      <td>3/12/2021</td>\n",
              "      <td>5/21/2020</td>\n",
              "      <td>[\"Curated Travel\"]</td>\n",
              "      <td>1221</td>\n",
              "      <td>3</td>\n",
              "      <td>9</td>\n",
              "    </tr>\n",
              "    <tr>\n",
              "      <th>62</th>\n",
              "      <td>=A63+175</td>\n",
              "      <td>Europe</td>\n",
              "      <td>Cancelled</td>\n",
              "      <td>7/27/2020</td>\n",
              "      <td>Val Thorens, France</td>\n",
              "      <td>6</td>\n",
              "      <td>2021-03-13</td>\n",
              "      <td>3/19/2021</td>\n",
              "      <td>7/31/2020</td>\n",
              "      <td>[\"Curated Travel\"]</td>\n",
              "      <td>3081</td>\n",
              "      <td>3</td>\n",
              "      <td>10</td>\n",
              "    </tr>\n",
              "  </tbody>\n",
              "</table>\n",
              "<p>63 rows × 13 columns</p>\n",
              "</div>"
            ],
            "text/plain": [
              "   Event Identifier         Region  ... Start_Month Start_Week\n",
              "0          =3984258  North America  ...           5         20\n",
              "1           =A2+175         Europe  ...           9         38\n",
              "2           =A3+175  North America  ...           9         36\n",
              "3           =A4+175         Europe  ...          11         46\n",
              "4           =A5+175         Europe  ...           9         36\n",
              "..              ...            ...  ...         ...        ...\n",
              "58         =A59+175         Europe  ...          10         40\n",
              "59         =A60+175         Europe  ...           4         13\n",
              "60         =A61+175         Europe  ...           5         18\n",
              "61         =A62+175         Europe  ...           3          9\n",
              "62         =A63+175         Europe  ...           3         10\n",
              "\n",
              "[63 rows x 13 columns]"
            ]
          },
          "metadata": {
            "tags": []
          },
          "execution_count": 204
        }
      ]
    },
    {
      "cell_type": "code",
      "metadata": {
        "colab": {
          "base_uri": "https://localhost:8080/"
        },
        "id": "Pq2rvDnyf61Q",
        "outputId": "ec0becfa-a1cc-4f92-a7dc-a3dd591081aa"
      },
      "source": [
        "Campaigns_df.dtypes"
      ],
      "execution_count": 205,
      "outputs": [
        {
          "output_type": "execute_result",
          "data": {
            "text/plain": [
              "Event Identifier                  object\n",
              "Region                            object\n",
              "Native Stage                      object\n",
              "Last Stage Change Date            object\n",
              "Location: Name                    object\n",
              "Number of Nights                   int64\n",
              "Start_Date                datetime64[ns]\n",
              "End_Date                          object\n",
              "On Sale Date Time                 object\n",
              "Event Type                        object\n",
              "# Traveler Estimate                int64\n",
              "Start_Month                        int64\n",
              "Start_Week                         int64\n",
              "dtype: object"
            ]
          },
          "metadata": {
            "tags": []
          },
          "execution_count": 205
        }
      ]
    },
    {
      "cell_type": "markdown",
      "metadata": {
        "id": "NKX-Z5FkijJp"
      },
      "source": [
        "What month may we see the most travellers? How many travellers can we expect?\n"
      ]
    },
    {
      "cell_type": "code",
      "metadata": {
        "colab": {
          "base_uri": "https://localhost:8080/"
        },
        "id": "dMvHBsOAiico",
        "outputId": "2b7c1902-33c0-4e98-df26-03b1738863ff"
      },
      "source": [
        "monthly_travellers = Campaigns_df.groupby('Start_Month').sum()['Estimated_Travellers']\n",
        "results.head(13)"
      ],
      "execution_count": 235,
      "outputs": [
        {
          "output_type": "execute_result",
          "data": {
            "text/plain": [
              "Start_Month\n",
              "3      6401\n",
              "4     10920\n",
              "5     23101\n",
              "6     15049\n",
              "7      6625\n",
              "8      4895\n",
              "9     38372\n",
              "10    27324\n",
              "11    12302\n",
              "12     6383\n",
              "Name: Estimated_Travellers, dtype: int64"
            ]
          },
          "metadata": {
            "tags": []
          },
          "execution_count": 235
        }
      ]
    },
    {
      "cell_type": "code",
      "metadata": {
        "colab": {
          "base_uri": "https://localhost:8080/",
          "height": 299
        },
        "id": "uo8vOvRumXd1",
        "outputId": "3d4b8952-4530-4997-f656-b2caa8a7d9d5"
      },
      "source": [
        "import matplotlib.pyplot as plt\n",
        "months = range(3, 13)\n",
        "plt.bar(months, monthly_travellers)\n",
        "plt.xticks(months)\n",
        "plt.ylabel('Estimated Travellers')\n",
        "plt.xlabel('Months (2021)')"
      ],
      "execution_count": 236,
      "outputs": [
        {
          "output_type": "execute_result",
          "data": {
            "text/plain": [
              "Text(0.5, 0, 'Months (2021)')"
            ]
          },
          "metadata": {
            "tags": []
          },
          "execution_count": 236
        },
        {
          "output_type": "display_data",
          "data": {
            "image/png": "[encoded data removed]",
            "text/plain": [
              "<Figure size 432x288 with 1 Axes>"
            ]
          },
          "metadata": {
            "tags": [],
            "needs_background": "light"
          }
        }
      ]
    },
    {
      "cell_type": "code",
      "metadata": {
        "colab": {
          "base_uri": "https://localhost:8080/"
        },
        "id": "oA3gjBUst2n8",
        "outputId": "c67f31aa-bcb5-4550-f999-36e750fb4d03"
      },
      "source": [
        ""
      ],
      "execution_count": 251,
      "outputs": [
        {
          "output_type": "execute_result",
          "data": {
            "text/plain": [
              "0     20\n",
              "1     38\n",
              "2     36\n",
              "3     46\n",
              "4     36\n",
              "      ..\n",
              "58    40\n",
              "59    13\n",
              "60    18\n",
              "61     9\n",
              "62    10\n",
              "Name: Start_Week, Length: 63, dtype: int64"
            ]
          },
          "metadata": {
            "tags": []
          },
          "execution_count": 251
        }
      ]
    },
    {
      "cell_type": "code",
      "metadata": {
        "colab": {
          "base_uri": "https://localhost:8080/"
        },
        "id": "cebqqVbItHA-",
        "outputId": "84889de3-6bc4-4770-d662-b42c18618837"
      },
      "source": [
        "weekly_travellers = Campaigns_df.groupby('Start_Week').sum()['Estimated_Travellers']\n",
        "weekly_travellers.head(52)"
      ],
      "execution_count": 254,
      "outputs": [
        {
          "output_type": "execute_result",
          "data": {
            "text/plain": [
              "Start_Week\n",
              "9      1221\n",
              "10     3081\n",
              "12     2099\n",
              "13     1446\n",
              "14     2563\n",
              "15     1929\n",
              "16     1650\n",
              "17     3332\n",
              "18     4431\n",
              "19     2452\n",
              "20     5626\n",
              "21    10592\n",
              "22     5928\n",
              "23     6632\n",
              "24     2489\n",
              "30     6625\n",
              "33     1940\n",
              "34     2955\n",
              "35     5167\n",
              "36     7765\n",
              "37    12151\n",
              "38     9970\n",
              "39     5705\n",
              "40    18247\n",
              "42     1333\n",
              "43     5358\n",
              "44     3281\n",
              "45     3634\n",
              "46     3832\n",
              "47     1555\n",
              "48     1755\n",
              "50     4628\n",
              "Name: Estimated_Travellers, dtype: int64"
            ]
          },
          "metadata": {
            "tags": []
          },
          "execution_count": 254
        }
      ]
    },
    {
      "cell_type": "code",
      "metadata": {
        "colab": {
          "base_uri": "https://localhost:8080/",
          "height": 661
        },
        "id": "wClQh4ZhuOb5",
        "outputId": "9d46c8e3-538c-482c-a347-37ade9071c0f"
      },
      "source": [
        "weeks = range(9, 50)\n",
        "plt.bar(weeks, weekly_travellers)\n",
        "plt.xticks(weeks)\n",
        "plt.ylabel('Estimated Travellers')\n",
        "plt.xlabel('Weeks (2021)')"
      ],
      "execution_count": 255,
      "outputs": [
        {
          "output_type": "error",
          "ename": "ValueError",
          "evalue": "ignored",
          "traceback": [
            "\u001b[0;31m---------------------------------------------------------------------------\u001b[0m",
            "\u001b[0;31mValueError\u001b[0m                                Traceback (most recent call last)",
            "\u001b[0;32m<ipython-input-255-f0425d588301>\u001b[0m in \u001b[0;36m<module>\u001b[0;34m()\u001b[0m\n\u001b[1;32m      1\u001b[0m \u001b[0mweeks\u001b[0m \u001b[0;34m=\u001b[0m \u001b[0mrange\u001b[0m\u001b[0;34m(\u001b[0m\u001b[0;36m9\u001b[0m\u001b[0;34m,\u001b[0m \u001b[0;36m50\u001b[0m\u001b[0;34m)\u001b[0m\u001b[0;34m\u001b[0m\u001b[0;34m\u001b[0m\u001b[0m\n\u001b[0;32m----> 2\u001b[0;31m \u001b[0mplt\u001b[0m\u001b[0;34m.\u001b[0m\u001b[0mbar\u001b[0m\u001b[0;34m(\u001b[0m\u001b[0mweeks\u001b[0m\u001b[0;34m,\u001b[0m \u001b[0mweekly_travellers\u001b[0m\u001b[0;34m)\u001b[0m\u001b[0;34m\u001b[0m\u001b[0;34m\u001b[0m\u001b[0m\n\u001b[0m\u001b[1;32m      3\u001b[0m \u001b[0mplt\u001b[0m\u001b[0;34m.\u001b[0m\u001b[0mxticks\u001b[0m\u001b[0;34m(\u001b[0m\u001b[0mweeks\u001b[0m\u001b[0;34m)\u001b[0m\u001b[0;34m\u001b[0m\u001b[0;34m\u001b[0m\u001b[0m\n\u001b[1;32m      4\u001b[0m \u001b[0mplt\u001b[0m\u001b[0;34m.\u001b[0m\u001b[0mylabel\u001b[0m\u001b[0;34m(\u001b[0m\u001b[0;34m'Estimated Travellers'\u001b[0m\u001b[0;34m)\u001b[0m\u001b[0;34m\u001b[0m\u001b[0;34m\u001b[0m\u001b[0m\n\u001b[1;32m      5\u001b[0m \u001b[0mplt\u001b[0m\u001b[0;34m.\u001b[0m\u001b[0mxlabel\u001b[0m\u001b[0;34m(\u001b[0m\u001b[0;34m'Weeks (2021)'\u001b[0m\u001b[0;34m)\u001b[0m\u001b[0;34m\u001b[0m\u001b[0;34m\u001b[0m\u001b[0m\n",
            "\u001b[0;32m/usr/local/lib/python3.6/dist-packages/matplotlib/pyplot.py\u001b[0m in \u001b[0;36mbar\u001b[0;34m(x, height, width, bottom, align, data, **kwargs)\u001b[0m\n\u001b[1;32m   2407\u001b[0m     return gca().bar(\n\u001b[1;32m   2408\u001b[0m         \u001b[0mx\u001b[0m\u001b[0;34m,\u001b[0m \u001b[0mheight\u001b[0m\u001b[0;34m,\u001b[0m \u001b[0mwidth\u001b[0m\u001b[0;34m=\u001b[0m\u001b[0mwidth\u001b[0m\u001b[0;34m,\u001b[0m \u001b[0mbottom\u001b[0m\u001b[0;34m=\u001b[0m\u001b[0mbottom\u001b[0m\u001b[0;34m,\u001b[0m \u001b[0malign\u001b[0m\u001b[0;34m=\u001b[0m\u001b[0malign\u001b[0m\u001b[0;34m,\u001b[0m\u001b[0;34m\u001b[0m\u001b[0;34m\u001b[0m\u001b[0m\n\u001b[0;32m-> 2409\u001b[0;31m         **({\"data\": data} if data is not None else {}), **kwargs)\n\u001b[0m\u001b[1;32m   2410\u001b[0m \u001b[0;34m\u001b[0m\u001b[0m\n\u001b[1;32m   2411\u001b[0m \u001b[0;34m\u001b[0m\u001b[0m\n",
            "\u001b[0;32m/usr/local/lib/python3.6/dist-packages/matplotlib/__init__.py\u001b[0m in \u001b[0;36minner\u001b[0;34m(ax, data, *args, **kwargs)\u001b[0m\n\u001b[1;32m   1563\u001b[0m     \u001b[0;32mdef\u001b[0m \u001b[0minner\u001b[0m\u001b[0;34m(\u001b[0m\u001b[0max\u001b[0m\u001b[0;34m,\u001b[0m \u001b[0;34m*\u001b[0m\u001b[0margs\u001b[0m\u001b[0;34m,\u001b[0m \u001b[0mdata\u001b[0m\u001b[0;34m=\u001b[0m\u001b[0;32mNone\u001b[0m\u001b[0;34m,\u001b[0m \u001b[0;34m**\u001b[0m\u001b[0mkwargs\u001b[0m\u001b[0;34m)\u001b[0m\u001b[0;34m:\u001b[0m\u001b[0;34m\u001b[0m\u001b[0;34m\u001b[0m\u001b[0m\n\u001b[1;32m   1564\u001b[0m         \u001b[0;32mif\u001b[0m \u001b[0mdata\u001b[0m \u001b[0;32mis\u001b[0m \u001b[0;32mNone\u001b[0m\u001b[0;34m:\u001b[0m\u001b[0;34m\u001b[0m\u001b[0;34m\u001b[0m\u001b[0m\n\u001b[0;32m-> 1565\u001b[0;31m             \u001b[0;32mreturn\u001b[0m \u001b[0mfunc\u001b[0m\u001b[0;34m(\u001b[0m\u001b[0max\u001b[0m\u001b[0;34m,\u001b[0m \u001b[0;34m*\u001b[0m\u001b[0mmap\u001b[0m\u001b[0;34m(\u001b[0m\u001b[0msanitize_sequence\u001b[0m\u001b[0;34m,\u001b[0m \u001b[0margs\u001b[0m\u001b[0;34m)\u001b[0m\u001b[0;34m,\u001b[0m \u001b[0;34m**\u001b[0m\u001b[0mkwargs\u001b[0m\u001b[0;34m)\u001b[0m\u001b[0;34m\u001b[0m\u001b[0;34m\u001b[0m\u001b[0m\n\u001b[0m\u001b[1;32m   1566\u001b[0m \u001b[0;34m\u001b[0m\u001b[0m\n\u001b[1;32m   1567\u001b[0m         \u001b[0mbound\u001b[0m \u001b[0;34m=\u001b[0m \u001b[0mnew_sig\u001b[0m\u001b[0;34m.\u001b[0m\u001b[0mbind\u001b[0m\u001b[0;34m(\u001b[0m\u001b[0max\u001b[0m\u001b[0;34m,\u001b[0m \u001b[0;34m*\u001b[0m\u001b[0margs\u001b[0m\u001b[0;34m,\u001b[0m \u001b[0;34m**\u001b[0m\u001b[0mkwargs\u001b[0m\u001b[0;34m)\u001b[0m\u001b[0;34m\u001b[0m\u001b[0;34m\u001b[0m\u001b[0m\n",
            "\u001b[0;32m/usr/local/lib/python3.6/dist-packages/matplotlib/axes/_axes.py\u001b[0m in \u001b[0;36mbar\u001b[0;34m(self, x, height, width, bottom, align, **kwargs)\u001b[0m\n\u001b[1;32m   2340\u001b[0m         x, height, width, y, linewidth = np.broadcast_arrays(\n\u001b[1;32m   2341\u001b[0m             \u001b[0;31m# Make args iterable too.\u001b[0m\u001b[0;34m\u001b[0m\u001b[0;34m\u001b[0m\u001b[0;34m\u001b[0m\u001b[0m\n\u001b[0;32m-> 2342\u001b[0;31m             np.atleast_1d(x), height, width, y, linewidth)\n\u001b[0m\u001b[1;32m   2343\u001b[0m \u001b[0;34m\u001b[0m\u001b[0m\n\u001b[1;32m   2344\u001b[0m         \u001b[0;31m# Now that units have been converted, set the tick locations.\u001b[0m\u001b[0;34m\u001b[0m\u001b[0;34m\u001b[0m\u001b[0;34m\u001b[0m\u001b[0m\n",
            "\u001b[0;32m<__array_function__ internals>\u001b[0m in \u001b[0;36mbroadcast_arrays\u001b[0;34m(*args, **kwargs)\u001b[0m\n",
            "\u001b[0;32m/usr/local/lib/python3.6/dist-packages/numpy/lib/stride_tricks.py\u001b[0m in \u001b[0;36mbroadcast_arrays\u001b[0;34m(subok, *args)\u001b[0m\n\u001b[1;32m    256\u001b[0m     \u001b[0margs\u001b[0m \u001b[0;34m=\u001b[0m \u001b[0;34m[\u001b[0m\u001b[0mnp\u001b[0m\u001b[0;34m.\u001b[0m\u001b[0marray\u001b[0m\u001b[0;34m(\u001b[0m\u001b[0m_m\u001b[0m\u001b[0;34m,\u001b[0m \u001b[0mcopy\u001b[0m\u001b[0;34m=\u001b[0m\u001b[0;32mFalse\u001b[0m\u001b[0;34m,\u001b[0m \u001b[0msubok\u001b[0m\u001b[0;34m=\u001b[0m\u001b[0msubok\u001b[0m\u001b[0;34m)\u001b[0m \u001b[0;32mfor\u001b[0m \u001b[0m_m\u001b[0m \u001b[0;32min\u001b[0m \u001b[0margs\u001b[0m\u001b[0;34m]\u001b[0m\u001b[0;34m\u001b[0m\u001b[0;34m\u001b[0m\u001b[0m\n\u001b[1;32m    257\u001b[0m \u001b[0;34m\u001b[0m\u001b[0m\n\u001b[0;32m--> 258\u001b[0;31m     \u001b[0mshape\u001b[0m \u001b[0;34m=\u001b[0m \u001b[0m_broadcast_shape\u001b[0m\u001b[0;34m(\u001b[0m\u001b[0;34m*\u001b[0m\u001b[0margs\u001b[0m\u001b[0;34m)\u001b[0m\u001b[0;34m\u001b[0m\u001b[0;34m\u001b[0m\u001b[0m\n\u001b[0m\u001b[1;32m    259\u001b[0m \u001b[0;34m\u001b[0m\u001b[0m\n\u001b[1;32m    260\u001b[0m     \u001b[0;32mif\u001b[0m \u001b[0mall\u001b[0m\u001b[0;34m(\u001b[0m\u001b[0marray\u001b[0m\u001b[0;34m.\u001b[0m\u001b[0mshape\u001b[0m \u001b[0;34m==\u001b[0m \u001b[0mshape\u001b[0m \u001b[0;32mfor\u001b[0m \u001b[0marray\u001b[0m \u001b[0;32min\u001b[0m \u001b[0margs\u001b[0m\u001b[0;34m)\u001b[0m\u001b[0;34m:\u001b[0m\u001b[0;34m\u001b[0m\u001b[0;34m\u001b[0m\u001b[0m\n",
            "\u001b[0;32m/usr/local/lib/python3.6/dist-packages/numpy/lib/stride_tricks.py\u001b[0m in \u001b[0;36m_broadcast_shape\u001b[0;34m(*args)\u001b[0m\n\u001b[1;32m    187\u001b[0m     \u001b[0;31m# use the old-iterator because np.nditer does not handle size 0 arrays\u001b[0m\u001b[0;34m\u001b[0m\u001b[0;34m\u001b[0m\u001b[0;34m\u001b[0m\u001b[0m\n\u001b[1;32m    188\u001b[0m     \u001b[0;31m# consistently\u001b[0m\u001b[0;34m\u001b[0m\u001b[0;34m\u001b[0m\u001b[0;34m\u001b[0m\u001b[0m\n\u001b[0;32m--> 189\u001b[0;31m     \u001b[0mb\u001b[0m \u001b[0;34m=\u001b[0m \u001b[0mnp\u001b[0m\u001b[0;34m.\u001b[0m\u001b[0mbroadcast\u001b[0m\u001b[0;34m(\u001b[0m\u001b[0;34m*\u001b[0m\u001b[0margs\u001b[0m\u001b[0;34m[\u001b[0m\u001b[0;34m:\u001b[0m\u001b[0;36m32\u001b[0m\u001b[0;34m]\u001b[0m\u001b[0;34m)\u001b[0m\u001b[0;34m\u001b[0m\u001b[0;34m\u001b[0m\u001b[0m\n\u001b[0m\u001b[1;32m    190\u001b[0m     \u001b[0;31m# unfortunately, it cannot handle 32 or more arguments directly\u001b[0m\u001b[0;34m\u001b[0m\u001b[0;34m\u001b[0m\u001b[0;34m\u001b[0m\u001b[0m\n\u001b[1;32m    191\u001b[0m     \u001b[0;32mfor\u001b[0m \u001b[0mpos\u001b[0m \u001b[0;32min\u001b[0m \u001b[0mrange\u001b[0m\u001b[0;34m(\u001b[0m\u001b[0;36m32\u001b[0m\u001b[0;34m,\u001b[0m \u001b[0mlen\u001b[0m\u001b[0;34m(\u001b[0m\u001b[0margs\u001b[0m\u001b[0;34m)\u001b[0m\u001b[0;34m,\u001b[0m \u001b[0;36m31\u001b[0m\u001b[0;34m)\u001b[0m\u001b[0;34m:\u001b[0m\u001b[0;34m\u001b[0m\u001b[0;34m\u001b[0m\u001b[0m\n",
            "\u001b[0;31mValueError\u001b[0m: shape mismatch: objects cannot be broadcast to a single shape"
          ]
        },
        {
          "output_type": "display_data",
          "data": {
            "image/png": "[encoded data removed]",
            "text/plain": [
              "<Figure size 432x288 with 1 Axes>"
            ]
          },
          "metadata": {
            "tags": [],
            "needs_background": "light"
          }
        }
      ]
    },
    {
      "cell_type": "code",
      "metadata": {
        "id": "IXbmht6FyMpa"
      },
      "source": [
        ""
      ],
      "execution_count": 255,
      "outputs": []
    },
    {
      "cell_type": "code",
      "metadata": {
        "id": "UNtB1e87ynkk"
      },
      "source": [
        ""
      ],
      "execution_count": null,
      "outputs": []
    },
    {
      "cell_type": "code",
      "metadata": {
        "id": "q4C9narOynvI"
      },
      "source": [
        ""
      ],
      "execution_count": null,
      "outputs": []
    },
    {
      "cell_type": "code",
      "metadata": {
        "id": "hVAPLQcfyn3d"
      },
      "source": [
        ""
      ],
      "execution_count": null,
      "outputs": []
    }
  ]
}