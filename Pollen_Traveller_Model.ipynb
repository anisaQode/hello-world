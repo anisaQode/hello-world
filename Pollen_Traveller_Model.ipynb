{
  "nbformat": 4,
  "nbformat_minor": 0,
  "metadata": {
    "colab": {
      "name": "Pollen: Traveller Model.ipynb",
      "provenance": [],
      "collapsed_sections": [],
      "authorship_tag": "ABX9TyNPjowPw5ZjRXGbdVu16U1j",
      "include_colab_link": true
    },
    "kernelspec": {
      "name": "python3",
      "display_name": "Python 3"
    }
  },
  "cells": [
    {
      "cell_type": "markdown",
      "metadata": {
        "id": "view-in-github",
        "colab_type": "text"
      },
      "source": [
        "<a href=\"https://colab.research.google.com/github/anisaQode/hello-world/blob/master/Pollen_Traveller_Model.ipynb\" target=\"_parent\"><img src=\"https://colab.research.google.com/assets/colab-badge.svg\" alt=\"Open In Colab\"/></a>"
      ]
    },
    {
      "cell_type": "code",
      "metadata": {
        "id": "RAjpB1Qq-EyW"
      },
      "source": [
        "import pandas as pd\n",
        "import numpy as np\n",
        "import gspread\n",
        "from gspread_dataframe import get_as_dataframe, set_with_dataframe"
      ],
      "execution_count": 2,
      "outputs": []
    },
    {
      "cell_type": "code",
      "metadata": {
        "id": "hI9WUZhM--IO"
      },
      "source": [
        "from google.colab import auth\n",
        "auth.authenticate_user()\n",
        "from oauth2client.client import GoogleCredentials\n",
        "gc = gspread.authorize(GoogleCredentials.get_application_default())"
      ],
      "execution_count": 3,
      "outputs": []
    },
    {
      "cell_type": "markdown",
      "metadata": {
        "id": "b9AJeDXKpv7h"
      },
      "source": [
        "Link to live google sheet"
      ]
    },
    {
      "cell_type": "code",
      "metadata": {
        "id": "X5whh4hn_lQU"
      },
      "source": [
        "sheet1 = gc.open_by_url('https://docs.google.com/spreadsheets/d/1CxGecd0p2MaE9nr8aBDElibYuDo-aBo6QSoy_OBtUqo/edit?ts=6024605e#gid=1028397889')"
      ],
      "execution_count": 4,
      "outputs": []
    },
    {
      "cell_type": "code",
      "metadata": {
        "id": "p1Bcw4eXAHPN"
      },
      "source": [
        "ws = sheet1.worksheet('Campaigns')"
      ],
      "execution_count": 5,
      "outputs": []
    },
    {
      "cell_type": "code",
      "metadata": {
        "id": "taJ5gx9tAVij"
      },
      "source": [
        "Campaigns_df = get_as_dataframe(ws)"
      ],
      "execution_count": 6,
      "outputs": []
    },
    {
      "cell_type": "code",
      "metadata": {
        "colab": {
          "base_uri": "https://localhost:8080/",
          "height": 275
        },
        "id": "228RwhZ9Abum",
        "outputId": "7bd1beab-dfb6-4101-bcf9-b16d47a2cced"
      },
      "source": [
        "Campaigns_df.tail(5)"
      ],
      "execution_count": 23,
      "outputs": [
        {
          "output_type": "execute_result",
          "data": {
            "text/html": [
              "<div>\n",
              "<style scoped>\n",
              "    .dataframe tbody tr th:only-of-type {\n",
              "        vertical-align: middle;\n",
              "    }\n",
              "\n",
              "    .dataframe tbody tr th {\n",
              "        vertical-align: top;\n",
              "    }\n",
              "\n",
              "    .dataframe thead th {\n",
              "        text-align: right;\n",
              "    }\n",
              "</style>\n",
              "<table border=\"1\" class=\"dataframe\">\n",
              "  <thead>\n",
              "    <tr style=\"text-align: right;\">\n",
              "      <th></th>\n",
              "      <th>Event Identifier</th>\n",
              "      <th>Region</th>\n",
              "      <th>Native Stage</th>\n",
              "      <th>Last Stage Change Date</th>\n",
              "      <th>Location: Name</th>\n",
              "      <th>Number of Nights</th>\n",
              "      <th>Start_Date</th>\n",
              "      <th>End_Date</th>\n",
              "      <th>On_sale_date_time</th>\n",
              "      <th>Event Type</th>\n",
              "      <th>Estimated_Travellers</th>\n",
              "      <th>Start_Month</th>\n",
              "      <th>Start_Week</th>\n",
              "    </tr>\n",
              "  </thead>\n",
              "  <tbody>\n",
              "    <tr>\n",
              "      <th>1058</th>\n",
              "      <td>NaN</td>\n",
              "      <td>NaN</td>\n",
              "      <td>NaN</td>\n",
              "      <td>NaN</td>\n",
              "      <td>NaN</td>\n",
              "      <td>NaN</td>\n",
              "      <td>NaT</td>\n",
              "      <td>NaN</td>\n",
              "      <td>NaN</td>\n",
              "      <td>NaN</td>\n",
              "      <td>NaN</td>\n",
              "      <td>NaN</td>\n",
              "      <td>NaN</td>\n",
              "    </tr>\n",
              "    <tr>\n",
              "      <th>1059</th>\n",
              "      <td>NaN</td>\n",
              "      <td>NaN</td>\n",
              "      <td>NaN</td>\n",
              "      <td>NaN</td>\n",
              "      <td>NaN</td>\n",
              "      <td>NaN</td>\n",
              "      <td>NaT</td>\n",
              "      <td>NaN</td>\n",
              "      <td>NaN</td>\n",
              "      <td>NaN</td>\n",
              "      <td>NaN</td>\n",
              "      <td>NaN</td>\n",
              "      <td>NaN</td>\n",
              "    </tr>\n",
              "    <tr>\n",
              "      <th>1060</th>\n",
              "      <td>NaN</td>\n",
              "      <td>NaN</td>\n",
              "      <td>NaN</td>\n",
              "      <td>NaN</td>\n",
              "      <td>NaN</td>\n",
              "      <td>NaN</td>\n",
              "      <td>NaT</td>\n",
              "      <td>NaN</td>\n",
              "      <td>NaN</td>\n",
              "      <td>NaN</td>\n",
              "      <td>NaN</td>\n",
              "      <td>NaN</td>\n",
              "      <td>NaN</td>\n",
              "    </tr>\n",
              "    <tr>\n",
              "      <th>1061</th>\n",
              "      <td>NaN</td>\n",
              "      <td>NaN</td>\n",
              "      <td>NaN</td>\n",
              "      <td>NaN</td>\n",
              "      <td>NaN</td>\n",
              "      <td>NaN</td>\n",
              "      <td>NaT</td>\n",
              "      <td>NaN</td>\n",
              "      <td>NaN</td>\n",
              "      <td>NaN</td>\n",
              "      <td>NaN</td>\n",
              "      <td>NaN</td>\n",
              "      <td>NaN</td>\n",
              "    </tr>\n",
              "    <tr>\n",
              "      <th>1062</th>\n",
              "      <td>NaN</td>\n",
              "      <td>NaN</td>\n",
              "      <td>NaN</td>\n",
              "      <td>NaN</td>\n",
              "      <td>NaN</td>\n",
              "      <td>NaN</td>\n",
              "      <td>NaT</td>\n",
              "      <td>NaN</td>\n",
              "      <td>NaN</td>\n",
              "      <td>NaN</td>\n",
              "      <td>NaN</td>\n",
              "      <td>NaN</td>\n",
              "      <td>NaN</td>\n",
              "    </tr>\n",
              "  </tbody>\n",
              "</table>\n",
              "</div>"
            ],
            "text/plain": [
              "     Event Identifier Region  ... Start_Month Start_Week\n",
              "1058              NaN    NaN  ...         NaN        NaN\n",
              "1059              NaN    NaN  ...         NaN        NaN\n",
              "1060              NaN    NaN  ...         NaN        NaN\n",
              "1061              NaN    NaN  ...         NaN        NaN\n",
              "1062              NaN    NaN  ...         NaN        NaN\n",
              "\n",
              "[5 rows x 13 columns]"
            ]
          },
          "metadata": {
            "tags": []
          },
          "execution_count": 23
        }
      ]
    },
    {
      "cell_type": "markdown",
      "metadata": {
        "id": "4zMAPCZ-p1na"
      },
      "source": [
        "Drop unnecessary columns \n"
      ]
    },
    {
      "cell_type": "code",
      "metadata": {
        "id": "gTK6F7m8BWYb"
      },
      "source": [
        "Campaigns_df.drop(['Unnamed: 11', 'Unnamed: 12', 'Unnamed: 13'], axis=1, inplace=True)"
      ],
      "execution_count": 8,
      "outputs": []
    },
    {
      "cell_type": "markdown",
      "metadata": {
        "id": "Va2v3C6xqCAA"
      },
      "source": [
        "View: Estimated travellers grouped by event type and location "
      ]
    },
    {
      "cell_type": "code",
      "metadata": {
        "colab": {
          "base_uri": "https://localhost:8080/"
        },
        "id": "lignE0BWBe0-",
        "outputId": "3d93660c-45dd-4062-95c3-72120c626f14"
      },
      "source": [
        "Campaigns_df.groupby(['Location: Name', 'Event Type'])['# Traveler Estimate'].sum()"
      ],
      "execution_count": 9,
      "outputs": [
        {
          "output_type": "execute_result",
          "data": {
            "text/plain": [
              "Location: Name                  Event Type        \n",
              "Amsterdam, Netherlands          [\"Curated Travel\"]    26334.0\n",
              "                                [\"Spring Break\"]       8138.0\n",
              "Barcelona, Spain                [\"Curated Travel\"]     2912.0\n",
              "                                [\"Spring Break\"]       2118.0\n",
              "Berlin, Germany                 [\"Curated Travel\"]     6625.0\n",
              "Budapest, Hungary               [\"Curated Travel\"]     2488.0\n",
              "Cabo San Lucas, Mexico          [\"Curated Travel\"]     2164.0\n",
              "Cancun, Mexico                  [\"Curated Travel\"]    16738.0\n",
              "Dubai, United Arab Emirates     [\"Curated Travel\"]     2969.0\n",
              "Hawaii, United States           [\"Curated Travel\"]       20.0\n",
              "Ibiza, Spain                    [\"Curated Travel\"]    21684.0\n",
              "Lake Havasu, Arizona            [\"Curated Travel\"]     1590.0\n",
              "Las Vegas, Nevada               [\"Curated Travel\"]    19328.0\n",
              "                                [\"Spring Break\"]      10064.0\n",
              "Les Deux Alpes, France          [\"Curated Travel\"]     1659.0\n",
              "Malta                           [\"Curated Travel\"]     3574.0\n",
              "Miami, Florida                  [\"Curated Travel\"]     4551.0\n",
              "Mykonos, Greece                 [\"Curated Travel\"]     1766.0\n",
              "Palm Desert, California         [\"Curated Travel\"]     2489.0\n",
              "Punta Cana, Dominican Republic  [\"Curated Travel\"]     2160.0\n",
              "San Juan, Puerto Rico           [\"Curated Travel\"]     5779.0\n",
              "Tenerife, Spain                 [\"Curated Travel\"]     1940.0\n",
              "Val Thorens, France             [\"Curated Travel\"]     4302.0\n",
              "Name: # Traveler Estimate, dtype: float64"
            ]
          },
          "metadata": {
            "tags": []
          },
          "execution_count": 9
        }
      ]
    },
    {
      "cell_type": "markdown",
      "metadata": {
        "id": "0-HY4kOuqJmN"
      },
      "source": [
        "View: Estimated travellers grouped by event type\n"
      ]
    },
    {
      "cell_type": "code",
      "metadata": {
        "id": "YeP4EvP3EyuD"
      },
      "source": [
        "Campaigns_travellers_by_event_type = Campaigns_df.groupby(['Event Type'])['# Traveler Estimate'].sum()"
      ],
      "execution_count": 10,
      "outputs": []
    },
    {
      "cell_type": "code",
      "metadata": {
        "colab": {
          "base_uri": "https://localhost:8080/"
        },
        "id": "GuVnZFTEJM4b",
        "outputId": "55d65b82-0486-4614-cd0e-8ec26f2c8805"
      },
      "source": [
        "Campaigns_travellers_by_event_type"
      ],
      "execution_count": 11,
      "outputs": [
        {
          "output_type": "execute_result",
          "data": {
            "text/plain": [
              "Event Type\n",
              "[\"Curated Travel\"]    131072.0\n",
              "[\"Spring Break\"]       20320.0\n",
              "Name: # Traveler Estimate, dtype: float64"
            ]
          },
          "metadata": {
            "tags": []
          },
          "execution_count": 11
        }
      ]
    },
    {
      "cell_type": "markdown",
      "metadata": {
        "id": "JkbklWThqVrd"
      },
      "source": [
        "View: Estimated travellers grouped by location"
      ]
    },
    {
      "cell_type": "code",
      "metadata": {
        "id": "ZzBTI16eE5FL"
      },
      "source": [
        "Campaigns_location = Campaigns_df.groupby(['Location: Name'])['# Traveler Estimate'].sum().sort_values(ascending = False)"
      ],
      "execution_count": 12,
      "outputs": []
    },
    {
      "cell_type": "code",
      "metadata": {
        "colab": {
          "base_uri": "https://localhost:8080/"
        },
        "id": "UUVn-ga-Iugl",
        "outputId": "54b69754-f3e7-4226-d6fa-42c62264b8ab"
      },
      "source": [
        "Campaigns_location"
      ],
      "execution_count": 13,
      "outputs": [
        {
          "output_type": "execute_result",
          "data": {
            "text/plain": [
              "Location: Name\n",
              "Amsterdam, Netherlands            34472.0\n",
              "Las Vegas, Nevada                 29392.0\n",
              "Ibiza, Spain                      21684.0\n",
              "Cancun, Mexico                    16738.0\n",
              "Berlin, Germany                    6625.0\n",
              "San Juan, Puerto Rico              5779.0\n",
              "Barcelona, Spain                   5030.0\n",
              "Miami, Florida                     4551.0\n",
              "Val Thorens, France                4302.0\n",
              "Malta                              3574.0\n",
              "Dubai, United Arab Emirates        2969.0\n",
              "Palm Desert, California            2489.0\n",
              "Budapest, Hungary                  2488.0\n",
              "Cabo San Lucas, Mexico             2164.0\n",
              "Punta Cana, Dominican Republic     2160.0\n",
              "Tenerife, Spain                    1940.0\n",
              "Mykonos, Greece                    1766.0\n",
              "Les Deux Alpes, France             1659.0\n",
              "Lake Havasu, Arizona               1590.0\n",
              "Hawaii, United States                20.0\n",
              "Name: # Traveler Estimate, dtype: float64"
            ]
          },
          "metadata": {
            "tags": []
          },
          "execution_count": 13
        }
      ]
    },
    {
      "cell_type": "markdown",
      "metadata": {
        "id": "i3ewyuSiqbzD"
      },
      "source": [
        "Estimated travellers grouped by region"
      ]
    },
    {
      "cell_type": "code",
      "metadata": {
        "id": "dCeYTn46JjJz"
      },
      "source": [
        "Campaigns_region = Campaigns_df.groupby(['Region'])['# Traveler Estimate'].sum().sort_values(ascending = False)"
      ],
      "execution_count": 14,
      "outputs": []
    },
    {
      "cell_type": "code",
      "metadata": {
        "colab": {
          "base_uri": "https://localhost:8080/"
        },
        "id": "0z3pQ0wRJWwj",
        "outputId": "954343b4-b089-4d72-bf6c-6dba42ec1561"
      },
      "source": [
        "Campaigns_region"
      ],
      "execution_count": 15,
      "outputs": [
        {
          "output_type": "execute_result",
          "data": {
            "text/plain": [
              "Region\n",
              "Europe           85970.0\n",
              "North America    65422.0\n",
              "Name: # Traveler Estimate, dtype: float64"
            ]
          },
          "metadata": {
            "tags": []
          },
          "execution_count": 15
        }
      ]
    },
    {
      "cell_type": "markdown",
      "metadata": {
        "id": "gr1rijphqgNL"
      },
      "source": [
        "Data clean\n"
      ]
    },
    {
      "cell_type": "code",
      "metadata": {
        "colab": {
          "base_uri": "https://localhost:8080/",
          "height": 606
        },
        "id": "Mzivyb7Q4Nc0",
        "outputId": "dbc2f20c-d2fa-46c3-f4c1-72f938e5a7ee"
      },
      "source": [
        "Campaigns_df.head(64)"
      ],
      "execution_count": 16,
      "outputs": [
        {
          "output_type": "execute_result",
          "data": {
            "text/html": [
              "<div>\n",
              "<style scoped>\n",
              "    .dataframe tbody tr th:only-of-type {\n",
              "        vertical-align: middle;\n",
              "    }\n",
              "\n",
              "    .dataframe tbody tr th {\n",
              "        vertical-align: top;\n",
              "    }\n",
              "\n",
              "    .dataframe thead th {\n",
              "        text-align: right;\n",
              "    }\n",
              "</style>\n",
              "<table border=\"1\" class=\"dataframe\">\n",
              "  <thead>\n",
              "    <tr style=\"text-align: right;\">\n",
              "      <th></th>\n",
              "      <th>Event Identifier</th>\n",
              "      <th>Region</th>\n",
              "      <th>Native Stage</th>\n",
              "      <th>Last Stage Change Date</th>\n",
              "      <th>Location: Name</th>\n",
              "      <th>Number of Nights</th>\n",
              "      <th>Start Date</th>\n",
              "      <th>End Date</th>\n",
              "      <th>On Sale Date Time</th>\n",
              "      <th>Event Type</th>\n",
              "      <th># Traveler Estimate</th>\n",
              "    </tr>\n",
              "  </thead>\n",
              "  <tbody>\n",
              "    <tr>\n",
              "      <th>0</th>\n",
              "      <td>=3984258</td>\n",
              "      <td>North America</td>\n",
              "      <td>Prep</td>\n",
              "      <td>1/7/2021</td>\n",
              "      <td>Punta Cana, Dominican Republic</td>\n",
              "      <td>4.0</td>\n",
              "      <td>5/20/2021</td>\n",
              "      <td>5/24/2021</td>\n",
              "      <td>12/15/2020</td>\n",
              "      <td>[\"Curated Travel\"]</td>\n",
              "      <td>2160.0</td>\n",
              "    </tr>\n",
              "    <tr>\n",
              "      <th>1</th>\n",
              "      <td>=A2+175</td>\n",
              "      <td>Europe</td>\n",
              "      <td>Prep</td>\n",
              "      <td>1/12/2021</td>\n",
              "      <td>Mykonos, Greece</td>\n",
              "      <td>4.0</td>\n",
              "      <td>9/24/2021</td>\n",
              "      <td>9/28/2021</td>\n",
              "      <td>NaN</td>\n",
              "      <td>[\"Curated Travel\"]</td>\n",
              "      <td>735.0</td>\n",
              "    </tr>\n",
              "    <tr>\n",
              "      <th>2</th>\n",
              "      <td>=A3+175</td>\n",
              "      <td>North America</td>\n",
              "      <td>Prep</td>\n",
              "      <td>10/13/2020</td>\n",
              "      <td>Las Vegas, Nevada</td>\n",
              "      <td>3.0</td>\n",
              "      <td>9/10/2021</td>\n",
              "      <td>9/13/2021</td>\n",
              "      <td>3/2/2021</td>\n",
              "      <td>[\"Spring Break\"]</td>\n",
              "      <td>3605.0</td>\n",
              "    </tr>\n",
              "    <tr>\n",
              "      <th>3</th>\n",
              "      <td>=A4+175</td>\n",
              "      <td>Europe</td>\n",
              "      <td>Prep</td>\n",
              "      <td>10/27/2020</td>\n",
              "      <td>Amsterdam, Netherlands</td>\n",
              "      <td>3.0</td>\n",
              "      <td>11/19/2021</td>\n",
              "      <td>11/22/2021</td>\n",
              "      <td>NaN</td>\n",
              "      <td>[\"Curated Travel\"]</td>\n",
              "      <td>1563.0</td>\n",
              "    </tr>\n",
              "    <tr>\n",
              "      <th>4</th>\n",
              "      <td>=A5+175</td>\n",
              "      <td>Europe</td>\n",
              "      <td>Prep</td>\n",
              "      <td>2/1/2021</td>\n",
              "      <td>Ibiza, Spain</td>\n",
              "      <td>4.0</td>\n",
              "      <td>9/8/2021</td>\n",
              "      <td>9/12/2021</td>\n",
              "      <td>NaN</td>\n",
              "      <td>[\"Curated Travel\"]</td>\n",
              "      <td>4160.0</td>\n",
              "    </tr>\n",
              "    <tr>\n",
              "      <th>...</th>\n",
              "      <td>...</td>\n",
              "      <td>...</td>\n",
              "      <td>...</td>\n",
              "      <td>...</td>\n",
              "      <td>...</td>\n",
              "      <td>...</td>\n",
              "      <td>...</td>\n",
              "      <td>...</td>\n",
              "      <td>...</td>\n",
              "      <td>...</td>\n",
              "      <td>...</td>\n",
              "    </tr>\n",
              "    <tr>\n",
              "      <th>59</th>\n",
              "      <td>=A60+175</td>\n",
              "      <td>Europe</td>\n",
              "      <td>Cancelled</td>\n",
              "      <td>1/7/2021</td>\n",
              "      <td>Dubai, United Arab Emirates</td>\n",
              "      <td>4.0</td>\n",
              "      <td>4/1/2021</td>\n",
              "      <td>4/5/2021</td>\n",
              "      <td>12/15/2020</td>\n",
              "      <td>[\"Curated Travel\"]</td>\n",
              "      <td>909.0</td>\n",
              "    </tr>\n",
              "    <tr>\n",
              "      <th>60</th>\n",
              "      <td>=A61+175</td>\n",
              "      <td>Europe</td>\n",
              "      <td>Cancelled</td>\n",
              "      <td>6/30/2020</td>\n",
              "      <td>Amsterdam, Netherlands</td>\n",
              "      <td>3.0</td>\n",
              "      <td>5/7/2021</td>\n",
              "      <td>5/10/2021</td>\n",
              "      <td>4/23/2020</td>\n",
              "      <td>[\"Curated Travel\"]</td>\n",
              "      <td>1314.0</td>\n",
              "    </tr>\n",
              "    <tr>\n",
              "      <th>61</th>\n",
              "      <td>=A62+175</td>\n",
              "      <td>Europe</td>\n",
              "      <td>Cancelled</td>\n",
              "      <td>6/30/2020</td>\n",
              "      <td>Val Thorens, France</td>\n",
              "      <td>6.0</td>\n",
              "      <td>3/6/2021</td>\n",
              "      <td>3/12/2021</td>\n",
              "      <td>5/21/2020</td>\n",
              "      <td>[\"Curated Travel\"]</td>\n",
              "      <td>1221.0</td>\n",
              "    </tr>\n",
              "    <tr>\n",
              "      <th>62</th>\n",
              "      <td>=A63+175</td>\n",
              "      <td>Europe</td>\n",
              "      <td>Cancelled</td>\n",
              "      <td>7/27/2020</td>\n",
              "      <td>Val Thorens, France</td>\n",
              "      <td>6.0</td>\n",
              "      <td>3/13/2021</td>\n",
              "      <td>3/19/2021</td>\n",
              "      <td>7/31/2020</td>\n",
              "      <td>[\"Curated Travel\"]</td>\n",
              "      <td>3081.0</td>\n",
              "    </tr>\n",
              "    <tr>\n",
              "      <th>63</th>\n",
              "      <td>=A64+175</td>\n",
              "      <td>Europe</td>\n",
              "      <td>Cancelled</td>\n",
              "      <td>7/27/2020</td>\n",
              "      <td>Hawaii, United States</td>\n",
              "      <td>6.0</td>\n",
              "      <td>3/13/2021</td>\n",
              "      <td>3/19/2021</td>\n",
              "      <td>7/31/2020</td>\n",
              "      <td>[\"Curated Travel\"]</td>\n",
              "      <td>20.0</td>\n",
              "    </tr>\n",
              "  </tbody>\n",
              "</table>\n",
              "<p>64 rows × 11 columns</p>\n",
              "</div>"
            ],
            "text/plain": [
              "   Event Identifier         Region  ...          Event Type # Traveler Estimate\n",
              "0          =3984258  North America  ...  [\"Curated Travel\"]              2160.0\n",
              "1           =A2+175         Europe  ...  [\"Curated Travel\"]               735.0\n",
              "2           =A3+175  North America  ...    [\"Spring Break\"]              3605.0\n",
              "3           =A4+175         Europe  ...  [\"Curated Travel\"]              1563.0\n",
              "4           =A5+175         Europe  ...  [\"Curated Travel\"]              4160.0\n",
              "..              ...            ...  ...                 ...                 ...\n",
              "59         =A60+175         Europe  ...  [\"Curated Travel\"]               909.0\n",
              "60         =A61+175         Europe  ...  [\"Curated Travel\"]              1314.0\n",
              "61         =A62+175         Europe  ...  [\"Curated Travel\"]              1221.0\n",
              "62         =A63+175         Europe  ...  [\"Curated Travel\"]              3081.0\n",
              "63         =A64+175         Europe  ...  [\"Curated Travel\"]                20.0\n",
              "\n",
              "[64 rows x 11 columns]"
            ]
          },
          "metadata": {
            "tags": []
          },
          "execution_count": 16
        }
      ]
    },
    {
      "cell_type": "markdown",
      "metadata": {
        "id": "o_aTQxDeqm_k"
      },
      "source": [
        "Data clean: Are there any rows that have all null values?"
      ]
    },
    {
      "cell_type": "code",
      "metadata": {
        "colab": {
          "base_uri": "https://localhost:8080/",
          "height": 306
        },
        "id": "4LIh4QlPVGaR",
        "outputId": "bb73b57b-9a5c-416e-93a7-1f96345370b8"
      },
      "source": [
        "nan_df = Campaigns_df[Campaigns_df.isna().any(axis=1)]\n",
        "nan_df.head()"
      ],
      "execution_count": 17,
      "outputs": [
        {
          "output_type": "execute_result",
          "data": {
            "text/html": [
              "<div>\n",
              "<style scoped>\n",
              "    .dataframe tbody tr th:only-of-type {\n",
              "        vertical-align: middle;\n",
              "    }\n",
              "\n",
              "    .dataframe tbody tr th {\n",
              "        vertical-align: top;\n",
              "    }\n",
              "\n",
              "    .dataframe thead th {\n",
              "        text-align: right;\n",
              "    }\n",
              "</style>\n",
              "<table border=\"1\" class=\"dataframe\">\n",
              "  <thead>\n",
              "    <tr style=\"text-align: right;\">\n",
              "      <th></th>\n",
              "      <th>Event Identifier</th>\n",
              "      <th>Region</th>\n",
              "      <th>Native Stage</th>\n",
              "      <th>Last Stage Change Date</th>\n",
              "      <th>Location: Name</th>\n",
              "      <th>Number of Nights</th>\n",
              "      <th>Start Date</th>\n",
              "      <th>End Date</th>\n",
              "      <th>On Sale Date Time</th>\n",
              "      <th>Event Type</th>\n",
              "      <th># Traveler Estimate</th>\n",
              "    </tr>\n",
              "  </thead>\n",
              "  <tbody>\n",
              "    <tr>\n",
              "      <th>1</th>\n",
              "      <td>=A2+175</td>\n",
              "      <td>Europe</td>\n",
              "      <td>Prep</td>\n",
              "      <td>1/12/2021</td>\n",
              "      <td>Mykonos, Greece</td>\n",
              "      <td>4.0</td>\n",
              "      <td>9/24/2021</td>\n",
              "      <td>9/28/2021</td>\n",
              "      <td>NaN</td>\n",
              "      <td>[\"Curated Travel\"]</td>\n",
              "      <td>735.0</td>\n",
              "    </tr>\n",
              "    <tr>\n",
              "      <th>3</th>\n",
              "      <td>=A4+175</td>\n",
              "      <td>Europe</td>\n",
              "      <td>Prep</td>\n",
              "      <td>10/27/2020</td>\n",
              "      <td>Amsterdam, Netherlands</td>\n",
              "      <td>3.0</td>\n",
              "      <td>11/19/2021</td>\n",
              "      <td>11/22/2021</td>\n",
              "      <td>NaN</td>\n",
              "      <td>[\"Curated Travel\"]</td>\n",
              "      <td>1563.0</td>\n",
              "    </tr>\n",
              "    <tr>\n",
              "      <th>4</th>\n",
              "      <td>=A5+175</td>\n",
              "      <td>Europe</td>\n",
              "      <td>Prep</td>\n",
              "      <td>2/1/2021</td>\n",
              "      <td>Ibiza, Spain</td>\n",
              "      <td>4.0</td>\n",
              "      <td>9/8/2021</td>\n",
              "      <td>9/12/2021</td>\n",
              "      <td>NaN</td>\n",
              "      <td>[\"Curated Travel\"]</td>\n",
              "      <td>4160.0</td>\n",
              "    </tr>\n",
              "    <tr>\n",
              "      <th>5</th>\n",
              "      <td>=A6+175</td>\n",
              "      <td>Europe</td>\n",
              "      <td>Prep</td>\n",
              "      <td>NaN</td>\n",
              "      <td>Barcelona, Spain</td>\n",
              "      <td>3.0</td>\n",
              "      <td>9/3/2021</td>\n",
              "      <td>9/6/2021</td>\n",
              "      <td>NaN</td>\n",
              "      <td>[\"Spring Break\"]</td>\n",
              "      <td>2118.0</td>\n",
              "    </tr>\n",
              "    <tr>\n",
              "      <th>6</th>\n",
              "      <td>=A7+175</td>\n",
              "      <td>North America</td>\n",
              "      <td>Prep</td>\n",
              "      <td>NaN</td>\n",
              "      <td>Las Vegas, Nevada</td>\n",
              "      <td>4.0</td>\n",
              "      <td>9/23/2021</td>\n",
              "      <td>9/27/2021</td>\n",
              "      <td>NaN</td>\n",
              "      <td>[\"Curated Travel\"]</td>\n",
              "      <td>3175.0</td>\n",
              "    </tr>\n",
              "  </tbody>\n",
              "</table>\n",
              "</div>"
            ],
            "text/plain": [
              "  Event Identifier         Region  ...          Event Type # Traveler Estimate\n",
              "1          =A2+175         Europe  ...  [\"Curated Travel\"]               735.0\n",
              "3          =A4+175         Europe  ...  [\"Curated Travel\"]              1563.0\n",
              "4          =A5+175         Europe  ...  [\"Curated Travel\"]              4160.0\n",
              "5          =A6+175         Europe  ...    [\"Spring Break\"]              2118.0\n",
              "6          =A7+175  North America  ...  [\"Curated Travel\"]              3175.0\n",
              "\n",
              "[5 rows x 11 columns]"
            ]
          },
          "metadata": {
            "tags": []
          },
          "execution_count": 17
        }
      ]
    },
    {
      "cell_type": "code",
      "metadata": {
        "id": "q2_4VpIMwKKV"
      },
      "source": [
        "# Augment data with additional columns , Add month columns"
      ],
      "execution_count": 18,
      "outputs": []
    },
    {
      "cell_type": "markdown",
      "metadata": {
        "id": "Lpa5mGU2qygt"
      },
      "source": [
        "Add month and week column, rename columns for easier access"
      ]
    },
    {
      "cell_type": "code",
      "metadata": {
        "colab": {
          "base_uri": "https://localhost:8080/"
        },
        "id": "Us7DdXLFwBJq",
        "outputId": "842a507a-b490-4043-8922-c9db8dc04d7c"
      },
      "source": [
        "#Campaigns_df['Month'] = Campaigns_df['Start Date'].str[0:2]\n",
        "#Campaigns_df['Month'] = Campaigns_df['Month'].astype('int32')\n",
        "#Campaigns_df.head()\n",
        "Campaigns_df.rename(columns={'Start Date':'Start_Date', 'End Date':'End_Date', '# Traveler Estimate':'Estimated_Travellers','On Sale Date Time':'On_sale_date_time' }, inplace=True)\n",
        "Campaigns_df['Start_Date'] = pd.to_datetime(Campaigns_df.Start_Date)\n",
        "Campaigns_df['Start_Month'] = Campaigns_df.Start_Date.dt.month\n",
        "Campaigns_df['Start_Week'] = Campaigns_df.Start_Date.dt.week"
      ],
      "execution_count": 19,
      "outputs": [
        {
          "output_type": "stream",
          "text": [
            "/usr/local/lib/python3.6/dist-packages/ipykernel_launcher.py:7: FutureWarning: Series.dt.weekofyear and Series.dt.week have been deprecated.  Please use Series.dt.isocalendar().week instead.\n",
            "  import sys\n"
          ],
          "name": "stderr"
        }
      ]
    },
    {
      "cell_type": "markdown",
      "metadata": {
        "id": "W6NIiGWbq71x"
      },
      "source": [
        "Stage to status mapping\n"
      ]
    },
    {
      "cell_type": "code",
      "metadata": {
        "id": "sKvlO3QcZvX5"
      },
      "source": [
        "Campaigns_df['Native Stage'] = Campaigns_df['Native Stage'].replace({'Prep': 'Pre-Sale', 'Campaign Setup Required': 'Pre-Sale', 'Hype': 'Pre-Sale', 'Quality Assurance Review': 'Pre-Sale', 'Pre-Event Ops Planning':'Active', 'On-Sale' : 'Active', 'Postponed':'Postponed', 'Cancelled':'Cancelled'})"
      ],
      "execution_count": 20,
      "outputs": []
    },
    {
      "cell_type": "markdown",
      "metadata": {
        "id": "r0fz8iXjrEZK"
      },
      "source": [
        "What trip status are most estimated travellers on?"
      ]
    },
    {
      "cell_type": "code",
      "metadata": {
        "colab": {
          "base_uri": "https://localhost:8080/"
        },
        "id": "_pheDkjEftRV",
        "outputId": "b46cde0c-3424-446b-cd5f-b5fc5ad20074"
      },
      "source": [
        "Campaigns_stage = Campaigns_df.groupby(['Native Stage'])['Estimated_Travellers'].sum()\n",
        "Campaigns_stage"
      ],
      "execution_count": 21,
      "outputs": [
        {
          "output_type": "execute_result",
          "data": {
            "text/plain": [
              "Native Stage\n",
              "Active       89655.0\n",
              "Cancelled     6545.0\n",
              "Postponed    15687.0\n",
              "Pre-Sale     39505.0\n",
              "Name: Estimated_Travellers, dtype: float64"
            ]
          },
          "metadata": {
            "tags": []
          },
          "execution_count": 21
        }
      ]
    },
    {
      "cell_type": "code",
      "metadata": {
        "colab": {
          "base_uri": "https://localhost:8080/",
          "height": 232
        },
        "id": "Pq2rvDnyf61Q",
        "outputId": "67d97b12-ec32-44e7-daa0-fd23cd88d951"
      },
      "source": [
        "Stages = [stage for stage, df in Campaigns_df.groupby(['Native Stage'])]\n",
        "plt.scatter(Stages, Campaigns_stage)\n",
        "plt.xticks(Stages)\n",
        "plt.ylabel('Estimated Travellers')\n",
        "plt.xlabel('Stages (2021)')"
      ],
      "execution_count": 22,
      "outputs": [
        {
          "output_type": "error",
          "ename": "NameError",
          "evalue": "ignored",
          "traceback": [
            "\u001b[0;31m---------------------------------------------------------------------------\u001b[0m",
            "\u001b[0;31mNameError\u001b[0m                                 Traceback (most recent call last)",
            "\u001b[0;32m<ipython-input-22-6bc656a9234c>\u001b[0m in \u001b[0;36m<module>\u001b[0;34m()\u001b[0m\n\u001b[1;32m      1\u001b[0m \u001b[0mStages\u001b[0m \u001b[0;34m=\u001b[0m \u001b[0;34m[\u001b[0m\u001b[0mstage\u001b[0m \u001b[0;32mfor\u001b[0m \u001b[0mstage\u001b[0m\u001b[0;34m,\u001b[0m \u001b[0mdf\u001b[0m \u001b[0;32min\u001b[0m \u001b[0mCampaigns_df\u001b[0m\u001b[0;34m.\u001b[0m\u001b[0mgroupby\u001b[0m\u001b[0;34m(\u001b[0m\u001b[0;34m[\u001b[0m\u001b[0;34m'Native Stage'\u001b[0m\u001b[0;34m]\u001b[0m\u001b[0;34m)\u001b[0m\u001b[0;34m]\u001b[0m\u001b[0;34m\u001b[0m\u001b[0;34m\u001b[0m\u001b[0m\n\u001b[0;32m----> 2\u001b[0;31m \u001b[0mplt\u001b[0m\u001b[0;34m.\u001b[0m\u001b[0mscatter\u001b[0m\u001b[0;34m(\u001b[0m\u001b[0mStages\u001b[0m\u001b[0;34m,\u001b[0m \u001b[0mCampaigns_stage\u001b[0m\u001b[0;34m)\u001b[0m\u001b[0;34m\u001b[0m\u001b[0;34m\u001b[0m\u001b[0m\n\u001b[0m\u001b[1;32m      3\u001b[0m \u001b[0mplt\u001b[0m\u001b[0;34m.\u001b[0m\u001b[0mxticks\u001b[0m\u001b[0;34m(\u001b[0m\u001b[0mStages\u001b[0m\u001b[0;34m)\u001b[0m\u001b[0;34m\u001b[0m\u001b[0;34m\u001b[0m\u001b[0m\n\u001b[1;32m      4\u001b[0m \u001b[0mplt\u001b[0m\u001b[0;34m.\u001b[0m\u001b[0mylabel\u001b[0m\u001b[0;34m(\u001b[0m\u001b[0;34m'Estimated Travellers'\u001b[0m\u001b[0;34m)\u001b[0m\u001b[0;34m\u001b[0m\u001b[0;34m\u001b[0m\u001b[0m\n\u001b[1;32m      5\u001b[0m \u001b[0mplt\u001b[0m\u001b[0;34m.\u001b[0m\u001b[0mxlabel\u001b[0m\u001b[0;34m(\u001b[0m\u001b[0;34m'Stages (2021)'\u001b[0m\u001b[0;34m)\u001b[0m\u001b[0;34m\u001b[0m\u001b[0;34m\u001b[0m\u001b[0m\n",
            "\u001b[0;31mNameError\u001b[0m: name 'plt' is not defined"
          ]
        }
      ]
    },
    {
      "cell_type": "markdown",
      "metadata": {
        "id": "NKX-Z5FkijJp"
      },
      "source": [
        "Monthly view: What month may we see the most travellers? How many travellers can we expect?\n"
      ]
    },
    {
      "cell_type": "code",
      "metadata": {
        "id": "dMvHBsOAiico"
      },
      "source": [
        "monthly_travellers = Campaigns_df.groupby('Start_Month').sum()['Estimated_Travellers']\n",
        "results.head(13)"
      ],
      "execution_count": null,
      "outputs": []
    },
    {
      "cell_type": "code",
      "metadata": {
        "id": "uo8vOvRumXd1"
      },
      "source": [
        "import matplotlib.pyplot as plt\n",
        "months = range(3, 13)\n",
        "plt.plot(months, monthly_travellers)\n",
        "plt.xticks(months)\n",
        "plt.ylabel('Estimated Travellers')\n",
        "plt.xlabel('Months (2021)')"
      ],
      "execution_count": null,
      "outputs": []
    },
    {
      "cell_type": "markdown",
      "metadata": {
        "id": "LGM4JC45rNJG"
      },
      "source": [
        "Weekly view: Estimated travellers per week"
      ]
    },
    {
      "cell_type": "code",
      "metadata": {
        "id": "cebqqVbItHA-"
      },
      "source": [
        "weekly_travellers = Campaigns_df.groupby('Start_Week').sum()['Estimated_Travellers']\n",
        "weekly_travellers.head(52)"
      ],
      "execution_count": null,
      "outputs": []
    },
    {
      "cell_type": "code",
      "metadata": {
        "id": "wClQh4ZhuOb5"
      },
      "source": [
        "weeks = [week for week, df in Campaigns_df.groupby(['Start_Week'])]\n",
        "plt.plot(weeks, weekly_travellers)\n",
        "plt.xticks(weeks, rotation = 'vertical', size = 7)\n",
        "plt.ylabel('Estimated Travellers')\n",
        "plt.xlabel('Weeks (2021)')\n"
      ],
      "execution_count": null,
      "outputs": []
    },
    {
      "cell_type": "markdown",
      "metadata": {
        "id": "6DQYos_bzgud"
      },
      "source": [
        "How many travellers are on Spring Break vs Curated Travel trips?\n",
        "What Location has the higest number of estimated travellers?"
      ]
    },
    {
      "cell_type": "code",
      "metadata": {
        "id": "q4C9narOynvI"
      },
      "source": [
        "Campaigns_travellers_by_event_type = Campaigns_df.groupby(['Event Type'])['Estimated_Travellers'].sum()\n",
        "Campaigns_travellers_by_event_type.head()"
      ],
      "execution_count": null,
      "outputs": []
    },
    {
      "cell_type": "code",
      "metadata": {
        "id": "hVAPLQcfyn3d"
      },
      "source": [
        "Estimated_Travellers = ['131052', '20320']\n",
        "Event_Type_Labels = ['Curated Travel', 'Spring Break']\n",
        "plt.pie(Estimated_Travellers, labels = Event_Type_Labels, radius = 1.5, autopct = '%0.1f%%', shadow = True, explode = [0, 0.1])\n",
        "plt.show()"
      ],
      "execution_count": null,
      "outputs": []
    },
    {
      "cell_type": "code",
      "metadata": {
        "id": "NUddBNcn7N7N"
      },
      "source": [
        "Campaigns_location = Campaigns_df.groupby(['Location: Name'])['Estimated_Travellers'].sum().sort_values()\n",
        "Campaigns_location"
      ],
      "execution_count": null,
      "outputs": []
    },
    {
      "cell_type": "code",
      "metadata": {
        "id": "9799I3RuCIPM"
      },
      "source": [
        "Cities = [city for city, df in Campaigns_df.groupby(['Location: Name'])]\n",
        "plt.bar(Cities, Campaigns_location)\n",
        "plt.xticks(Locations, rotation = 'vertical', size = 8)\n",
        "plt.ylabel('Estimated Travellers')\n",
        "plt.xlabel('Locations (2021)')"
      ],
      "execution_count": null,
      "outputs": []
    },
    {
      "cell_type": "markdown",
      "metadata": {
        "id": "vz5OnW4jJn6R"
      },
      "source": [
        "~When should we put an event on-sale to maximise likelihood of customers buying a ticket/package?"
      ]
    },
    {
      "cell_type": "code",
      "metadata": {
        "id": "XO7s8yyKJwNY"
      },
      "source": [
        "Campaigns_df.columns"
      ],
      "execution_count": null,
      "outputs": []
    },
    {
      "cell_type": "code",
      "metadata": {
        "id": "-tgxc3oMKwpB"
      },
      "source": [
        "Campaigns_df.dtypes"
      ],
      "execution_count": null,
      "outputs": []
    },
    {
      "cell_type": "code",
      "metadata": {
        "id": "cn02uiEhK1yn"
      },
      "source": [
        "Campaigns_df['On_sale_date_time'] = pd.to_datetime(Campaigns_df['On_sale_date_time'])"
      ],
      "execution_count": null,
      "outputs": []
    },
    {
      "cell_type": "code",
      "metadata": {
        "id": "Ar44OZiFLDII"
      },
      "source": [
        "#Need timestamp and booking table to figure out best time to put up an event (using list comprehension to go through hours and grouping by each hour, aggregating with count, plotting a line graph)"
      ],
      "execution_count": null,
      "outputs": []
    }
  ]
}